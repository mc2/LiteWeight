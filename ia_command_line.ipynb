{
  "nbformat": 4,
  "nbformat_minor": 0,
  "metadata": {
    "colab": {
      "name": "ia-command-line.ipynb",
      "provenance": [],
      "collapsed_sections": [],
      "toc_visible": true,
      "include_colab_link": true
    },
    "kernelspec": {
      "name": "python3",
      "display_name": "Python 3"
    }
  },
  "cells": [
    {
      "cell_type": "markdown",
      "metadata": {
        "id": "view-in-github",
        "colab_type": "text"
      },
      "source": [
        "<a href=\"https://colab.research.google.com/github/mc2/LiteWeight/blob/master/ia_command_line.ipynb\" target=\"_parent\"><img src=\"https://colab.research.google.com/assets/colab-badge.svg\" alt=\"Open In Colab\"/></a>"
      ]
    },
    {
      "cell_type": "markdown",
      "metadata": {
        "id": "gMNp8zS7hFMY",
        "colab_type": "text"
      },
      "source": [
        "# Tutorial for learning to use the Internet Archive's command line tool\n"
      ]
    },
    {
      "cell_type": "markdown",
      "metadata": {
        "id": "TTDH1mJGzj9S",
        "colab_type": "text"
      },
      "source": [
        "Tutorial for learning to use the Internet Archive's command line tool: https://internetarchive.readthedocs.io/en/stable/cli.html\n",
        "\n",
        "On this page, will show you how to do a more sophisticated query than you can do through the website UI.\n",
        "\n",
        "The second exercise is counting the words in the Project Gutenberg bible.  Then some reports.  \n",
        "\n",
        "This is an experiment.  We are using a slack channel on internetarchive.slack.com for questions.  Pls write to mek@archive.org if interested.\n",
        "\n",
        "-brewster\n",
        "\n"
      ]
    },
    {
      "cell_type": "markdown",
      "metadata": {
        "id": "1UD2fRAEhYIp",
        "colab_type": "text"
      },
      "source": [
        "# Getting started and Extracting some metadata"
      ]
    },
    {
      "cell_type": "markdown",
      "metadata": {
        "id": "Mr7xhdwl_iW2",
        "colab_type": "text"
      },
      "source": [
        "\n",
        "1. You will need your archive.org username and password, if you don't have an account, create an Internet Archive account at https://archive.org/account/signup.\n",
        "\n",
        "2. Back on this page, run the commands in the next box: \n",
        "  \n",
        "  move your mouse over the gray area just below this box,\n",
        "\n",
        "  the \"`[ ]`\" turns into a play button. \n",
        "\n",
        "  Click on the play button. (it will warn you --> say Run Anyway)\n",
        "\n",
        "  It starts a virtual machine and install some commands.\n",
        "\n",
        "3. enter your Internet Archive username (email) and password.\n",
        "\n",
        "4. When the installation is complete, scroll down to play more.  Have fun."
      ]
    },
    {
      "cell_type": "code",
      "metadata": {
        "id": "H5n3C7l23FUm",
        "colab_type": "code",
        "colab": {
          "base_uri": "https://localhost:8080/",
          "height": 868
        },
        "outputId": "9c0d66a3-0610-4d9f-d867-420603b9863c"
      },
      "source": [
        "# Installing All Software necessary for this page\n",
        "# Move your mouse here and hit the play button on the left <<\n",
        "!echo \"Scroll down to see output in the window\"\n",
        "!echo \"\"\n",
        "!echo \"Installing jq for processing json...\"; apt-get install jq > /dev/null\n",
        "!echo \"Installing parallel to go fast...\"; apt-get install parallel > /dev/null\n",
        "!echo \"Installing bc to do command line math...\"; apt-get install bc > /dev/null\n",
        "!echo \"Finally... Install ia command line tool!\"; sudo pip install internetarchive > /dev/null\n",
        "\n",
        "\n",
        "# type your archive.org username (email) and password at prompt\n",
        "!until ia configure; do echo -e \"\\n*** Try again! or reset password: https://archive.org/account/forgot-password ***\\n\"; done   \n",
        "\n",
        "!echo \"Scroll down\"\n",
        "!ia --help # show what you can now do \n",
        "!echo \"READY!\""
      ],
      "execution_count": null,
      "outputs": [
        {
          "output_type": "stream",
          "text": [
            "Scroll down to see output in the window\n",
            "\n",
            "Installing jq for processing json...\n",
            "Installing parallel to go fast...\n",
            "Installing bc to do command line math...\n",
            "Finally... Install ia command line tool!\n",
            "Enter your Archive.org credentials below to configure 'ia'.\n",
            "\n",
            "Email address: brewster@archive.org\n",
            "Password: \n",
            "\n",
            "Config saved to: /root/.ia\n",
            "Scroll down\n",
            "A command line interface to Archive.org.\n",
            "\n",
            "usage:\n",
            "    ia [--help | --version]\n",
            "    ia [--config-file FILE] [--log | --debug]\n",
            "       [--insecure] [--host HOST] <command> [<args>]...\n",
            "\n",
            "options:\n",
            "    -h, --help\n",
            "    -v, --version\n",
            "    -c, --config-file FILE  Use FILE as config file.\n",
            "    -l, --log               Turn on logging [default: False].\n",
            "    -d, --debug             Turn on verbose logging [default: False].\n",
            "    -i, --insecure          Use HTTP for all requests instead of HTTPS [default: false]\n",
            "    -H, --host HOST         Host to use for requests (doesn't work for requests made to\n",
            "                            s3.us.archive.org) [default: archive.org]\n",
            "\n",
            "commands:\n",
            "    help      Retrieve help for subcommands.\n",
            "    configure Configure `ia`.\n",
            "    metadata  Retrieve and modify metadata for items on Archive.org.\n",
            "    upload    Upload items to Archive.org.\n",
            "    download  Download files from Archive.org.\n",
            "    delete    Delete files from Archive.org.\n",
            "    search    Search Archive.org.\n",
            "    tasks     Retrieve information about your Archive.org catalog tasks.\n",
            "    list      List files in a given item.\n",
            "    copy      Copy files in archive.org items.\n",
            "    move      Move/rename files in archive.org items.\n",
            "\n",
            "Documentation for 'ia' is available at:\n",
            "\n",
            "    https://archive.org/services/docs/api/internetarchive/cli.html\n",
            "\n",
            "See 'ia help <command>' for help on a specific command.\n",
            "READY!\n"
          ],
          "name": "stdout"
        }
      ]
    },
    {
      "cell_type": "markdown",
      "metadata": {
        "id": "Sxb3Avcf2Jox",
        "colab_type": "text"
      },
      "source": [
        "Now lets search in a collection and get some item identifiers.  An archive.org identifier is something you can put on https://archive.org/details/itemID  for instance https://archive.org/details/78_--and-mimi_frankie-carle-and-his-orchestra-gregg-lawrence-kennedy-simon_gbia0006176a\n",
        "\n",
        "Also you can see metadata and files to download with different \"verbs\"-- notice it is not \"/details/\" but \"/metadata/\" and \"/download/\"\n",
        "\n",
        "https://archive.org/metadata/78_--and-mimi_frankie-carle-and-his-orchestra-gregg-lawrence-kennedy-simon_gbia0006176a\n",
        "\n",
        "https://archive.org/download/78_--and-mimi_frankie-carle-and-his-orchestra-gregg-lawrence-kennedy-simon_gbia0006176a\n",
        "\n",
        "Hit the play button below by moving your mouse over the gray area below.\n"
      ]
    },
    {
      "cell_type": "code",
      "metadata": {
        "id": "IYyd_clG03zs",
        "colab_type": "code",
        "colab": {
          "base_uri": "https://localhost:8080/",
          "height": 191
        },
        "outputId": "984894a5-d64c-4381-b9d3-ddf1fd1cc9ed"
      },
      "source": [
        "!ia search \"collection:georgeblood\" --itemlist | head"
      ],
      "execution_count": null,
      "outputs": [
        {
          "output_type": "stream",
          "text": [
            "78_--and-mimi_frankie-carle-and-his-orchestra-gregg-lawrence-kennedy-simon_gbia0006176a\n",
            "78_--cold_the-savannah-six-mills-and-barrif_gbia0009322a\n",
            "78_-and-mimi-pronounced-mee-mee_frankie-carle-and-his-orchestra-gregg-lawrence-ken_gbia0018080a\n",
            "78_-and-mimi_art-lund-kennedy-simon-johnny-thompson_gbia0012786b\n",
            "78_-and-mimi_charlie-spivak-and-his-orchestra-tommy-mercer-jimmy-kennedy-nat-simon_gbia0078293b\n",
            "78_-and-mimi_dick-haymes-gordon-jenkins-and-his-orchestra-jimmy-kennedy-nat-simon_gbia0019235a\n",
            "78_-and-mimi_ray-dorey-kennedy-simon-jack-matthias_gbia0068930b\n",
            "78_-and-mimi_the-dinning-sisters-the-art-van-damme-quintet-jimmy-kennedy-nat-simon_gbia0071740a\n",
            "78_-but-what-are-these_pearl-bailey-mitchell-ayres-thomas-fairbanks_gbia0030610b\n",
            "78_-hist-hvor-vejen-slaar-en-bugt-this-is-where-the-road-is-turning-2-den-lille-o_gbia0051679b\n"
          ],
          "name": "stdout"
        }
      ]
    },
    {
      "cell_type": "markdown",
      "metadata": {
        "id": "9X_u6ReN2v9E",
        "colab_type": "text"
      },
      "source": [
        "With an identifier, you can download the files or get metadata for it.  The metadata comes back as json.  We can take one of the identifiers and use the \"ia metadata\" command."
      ]
    },
    {
      "cell_type": "code",
      "metadata": {
        "id": "ROCerKop09B2",
        "colab_type": "code",
        "colab": {
          "base_uri": "https://localhost:8080/",
          "height": 54
        },
        "outputId": "da90aa6a-39f7-4083-819f-363658bd72fd"
      },
      "source": [
        "!ia metadata 78_--and-mimi_frankie-carle-and-his-orchestra-gregg-lawrence-kennedy-simon_gbia0006176a"
      ],
      "execution_count": null,
      "outputs": [
        {
          "output_type": "stream",
          "text": [
            "{\"created\": 1600015357, \"d1\": \"ia601609.us.archive.org\", \"d2\": \"ia801609.us.archive.org\", \"dir\": \"/6/items/78_--and-mimi_frankie-carle-and-his-orchestra-gregg-lawrence-kennedy-simon_gbia0006176a\", \"files\": [{\"name\": \"- And Mimi - Frankie Carle and his Orchestra.afpk\", \"source\": \"derivative\", \"format\": \"Columbia Peaks\", \"original\": \"- And Mimi - Frankie Carle and his Orchestra.flac\", \"mtime\": \"1493242632\", \"size\": \"33944\", \"md5\": \"be4c294f6d0622779aace02fc5912d82\", \"crc32\": \"52d603ad\", \"sha1\": \"a409021a5b2536ee4f4fded32e63334a090f34cb\"}, {\"name\": \"- And Mimi - Frankie Carle and his Orchestra.flac\", \"source\": \"original\", \"mtime\": \"1493242116\", \"size\": \"60400750\", \"md5\": \"9db12efde2740c455496a30d6843a39d\", \"crc32\": \"0acfebc9\", \"sha1\": \"ae9b6902380c54047c09a987e488f9a2969096f1\", \"format\": \"24bit Flac\", \"length\": \"167.25\", \"height\": \"1680\", \"width\": \"1680\", \"matrix_number\": \"HCO2467\", \"collection-catalog-number\": \"GBIA0006176A\", \"publisher\": \"Columbia\", \"title\": \"- And Mimi\", \"album\": \"- And Mimi\", \"artist\": \"Frankie Carle and his Orchestra;Gregg Lawrence;Kennedy;Simon\", \"track\": \"01\", \"comment\": \"https://archive.org/details/78_--and-mimi_frankie-carle-and-his-orchestra-gregg-lawrence-kennedy-simon_gbia0006176a/-+And+Mimi+-+Frankie+Carle+and+his+Orchestra.flac\\\\\", \"external-identifier-match-date\": \"acoustid:2019-04-01T00:19:30Z\", \"external-identifier\": \"urn:acoustid:bc35611d-b86a-4509-a53b-8fc0c329b40a\"}, {\"name\": \"- And Mimi - Frankie Carle and his Orchestra.mp3\", \"source\": \"derivative\", \"creator\": \"Frankie Carle and his Orchestra;Gregg Lawrence;Kennedy;Simon\", \"title\": \"./- And Mimi\", \"track\": \"01\", \"album\": \"- And Mimi\", \"bitrate\": \"282\", \"length\": \"02:47\", \"format\": \"VBR MP3\", \"original\": \"- And Mimi - Frankie Carle and his Orchestra.flac\", \"mtime\": \"1493242287\", \"size\": \"5999104\", \"md5\": \"7af251c961c613416b081b13543d79cb\", \"crc32\": \"1696895b\", \"sha1\": \"86c36ca6f1d392138e2812d5348c516da303c888\", \"height\": \"0\", \"width\": \"0\"}, {\"name\": \"- And Mimi - Frankie Carle and his Orchestra.png\", \"source\": \"derivative\", \"format\": \"PNG\", \"original\": \"- And Mimi - Frankie Carle and his Orchestra.flac\", \"mtime\": \"1493242477\", \"size\": \"12844\", \"md5\": \"2bedc714b77bd28554b15b026830f75b\", \"crc32\": \"f5aa09b7\", \"sha1\": \"9ae113d8bee8f234b9aef5f45752c6b5c61f3738\"}, {\"name\": \"- And Mimi - Frankie Carle and his Orchestra_spectrogram.png\", \"source\": \"derivative\", \"format\": \"Spectrogram\", \"original\": \"- And Mimi - Frankie Carle and his Orchestra.flac\", \"mtime\": \"1493242556\", \"size\": \"275130\", \"md5\": \"f00c1d8cf58d1e6ec4a313203ad6f33d\", \"crc32\": \"4bc1feda\", \"sha1\": \"590e0b03541170a4dfef8f8879880a45d0329345\"}, {\"name\": \"78_--and-mimi_frankie-carle-and-his-orchestra-gregg-lawrence-kennedy-simon_gbia0006176a.jpg\", \"source\": \"derivative\", \"format\": \"JPEG\", \"original\": \"78_--and-mimi_frankie-carle-and-his-orchestra-gregg-lawrence-kennedy-simon_gbia0006176a.tif\", \"mtime\": \"1493242409\", \"size\": \"806432\", \"md5\": \"b3e27c3923696aa0f9e3da792878257e\", \"crc32\": \"1c6312eb\", \"sha1\": \"5bd8d3d1c1602d621dbb3a5c68f7063381960794\"}, {\"name\": \"78_--and-mimi_frankie-carle-and-his-orchestra-gregg-lawrence-kennedy-simon_gbia0006176a.tif\", \"source\": \"original\", \"mtime\": \"1493242103\", \"size\": \"24931586\", \"md5\": \"5878e42888150fc6ee053eb96335d44a\", \"crc32\": \"e97592d1\", \"sha1\": \"94933858bf21e69182e04fec715ab0acba9fbbea\", \"format\": \"TIFF\", \"matrix_number\": \"HCO2467\", \"collection-catalog-number\": \"GBIA0006176A\", \"publisher\": \"Columbia\"}, {\"name\": \"78_--and-mimi_frankie-carle-and-his-orchestra-gregg-lawrence-kennedy-simon_gbia0006176a_archive.torrent\", \"source\": \"metadata\", \"btih\": \"828118f6d2a61ca90271316a555aafe2e6b5220f\", \"mtime\": \"1557532408\", \"size\": \"39934\", \"md5\": \"3fb97b26cacf49a0bc045d7ec0aa0eec\", \"crc32\": \"032c043c\", \"sha1\": \"ec874ba5cb3a70240c8f1ab8ca904a971893aaf8\", \"format\": \"Archive BitTorrent\"}, {\"name\": \"78_--and-mimi_frankie-carle-and-his-orchestra-gregg-lawrence-kennedy-simon_gbia0006176a_files.xml\", \"source\": \"original\", \"format\": \"Metadata\", \"md5\": \"6d1b0888ab60d4f0c387e4839a8a6bf2\"}, {\"name\": \"78_--and-mimi_frankie-carle-and-his-orchestra-gregg-lawrence-kennedy-simon_gbia0006176a_itemimage.jpg\", \"source\": \"original\", \"mtime\": \"1493242120\", \"size\": \"323605\", \"md5\": \"bd2ffa24c80902d1cef4ef73ef5b0f61\", \"crc32\": \"9b47ff91\", \"sha1\": \"b380584a6f84114e2cf21658a7d40190016a9dc9\", \"format\": \"Item Image\", \"rotation\": \"0\", \"matrix_number\": \"HCO2467\", \"collection-catalog-number\": \"GBIA0006176A\", \"publisher\": \"Columbia\"}, {\"name\": \"78_--and-mimi_frankie-carle-and-his-orchestra-gregg-lawrence-kennedy-simon_gbia0006176a_meta.sqlite\", \"source\": \"original\", \"mtime\": \"1493242189\", \"size\": \"57344\", \"format\": \"Metadata\", \"md5\": \"f39f60f401a84eb7da6ddb9e86c27c10\", \"crc32\": \"34b4b015\", \"sha1\": \"89cb4deb2b1437aa3d6b24026fd52e41bb8e0106\"}, {\"name\": \"78_--and-mimi_frankie-carle-and-his-orchestra-gregg-lawrence-kennedy-simon_gbia0006176a_meta.xml\", \"source\": \"original\", \"mtime\": \"1557532401\", \"size\": \"2698\", \"format\": \"Metadata\", \"md5\": \"c019a6fccb689ab7e86b5fb7fb1f891b\", \"crc32\": \"b837b302\", \"sha1\": \"cd3da717ecea899d6925377cb133c4e267965c64\"}, {\"name\": \"78_--and-mimi_frankie-carle-and-his-orchestra-gregg-lawrence-kennedy-simon_gbia0006176a_reviews.xml\", \"source\": \"original\", \"mtime\": \"1493256965\", \"size\": \"592\", \"md5\": \"2928362060520c9f64fe75bf9da79c55\", \"crc32\": \"a005b38e\", \"sha1\": \"e304d9bd359c5d9126166c6aa46c2f4647cf0431\", \"format\": \"Metadata\"}, {\"name\": \"78_--and-mimi_frankie-carle-and-his-orchestra-gregg-lawrence-kennedy-simon_gbia0006176a_roles.json\", \"source\": \"original\", \"mtime\": \"1493242175\", \"size\": \"100\", \"md5\": \"6cc7267fe72d2ba1e15c111bbcbc732e\", \"crc32\": \"332efecf\", \"sha1\": \"bc92f9a296dfaccc475ce62b13885b7fce372c05\", \"format\": \"JSON\", \"matrix_number\": \"HCO2467\", \"collection-catalog-number\": \"GBIA0006176A\", \"publisher\": \"Columbia\"}, {\"name\": \"78_--and-mimi_frankie-carle-and-his-orchestra-gregg-lawrence-kennedy-simon_gbia0006176a_thumb.jpg\", \"source\": \"derivative\", \"format\": \"JPEG Thumb\", \"original\": \"78_--and-mimi_frankie-carle-and-his-orchestra-gregg-lawrence-kennedy-simon_gbia0006176a.tif\", \"mtime\": \"1493242408\", \"size\": \"9576\", \"md5\": \"634dc371d8f4b11fe2e9c211ac4a7ad0\", \"crc32\": \"e485a74d\", \"sha1\": \"d91fdf0af0cb5d204b93713fec5fe1e91b7c6611\"}, {\"name\": \"_78_--and-mimi_frankie-carle-and-his-orchestra-gregg-lawrence-kennedy-simon_gbia0006176a_01_2.0_CT_EQ.afpk\", \"source\": \"derivative\", \"format\": \"Columbia Peaks\", \"original\": \"_78_--and-mimi_frankie-carle-and-his-orchestra-gregg-lawrence-kennedy-simon_gbia0006176a_01_2.0_CT_EQ.flac\", \"mtime\": \"1493242608\", \"size\": \"32288\", \"md5\": \"9d66b4b9dd08c6852d74db85a51d8dd6\", \"crc32\": \"b80256e0\", \"sha1\": \"50138ee37a512c9f590cd05c4de57939c2b2a34f\"}, {\"name\": \"_78_--and-mimi_frankie-carle-and-his-orchestra-gregg-lawrence-kennedy-simon_gbia0006176a_01_2.0_CT_EQ.flac\", \"source\": \"original\", \"mtime\": \"1493242127\", \"size\": \"60313807\", \"md5\": \"de7e10431e4192506593fb30971d0ba5\", \"crc32\": \"8a91f49f\", \"sha1\": \"216b130879a98a63ca710288f6e28b4fd8dd578f\", \"format\": \"24bit Flac\", \"length\": \"167.25\", \"height\": \"1680\", \"width\": \"1680\", \"autoplay\": \"false\", \"matrix_number\": \"HCO2467\", \"collection-catalog-number\": \"GBIA0006176A\", \"publisher\": \"Columbia\", \"album\": \"- And Mimi\", \"artist\": \"Frankie Carle and his Orchestra;Gregg Lawrence;Kennedy;Simon\", \"track\": \"01\", \"comment\": \"https://archive.org/details/78_--and-mimi_frankie-carle-and-his-orchestra-gregg-lawrence-kennedy-simon_gbia0006176a/_78_--and-mimi_frankie-carle-and-his-orchestra-gregg-lawrence-kennedy-simon_gbia0006176a_01_2.0_CT_EQ.flac\\\\\"}, {\"name\": \"_78_--and-mimi_frankie-carle-and-his-orchestra-gregg-lawrence-kennedy-simon_gbia0006176a_01_2.0_CT_EQ.mp3\", \"source\": \"derivative\", \"creator\": \"Frankie Carle and his Orchestra;Gregg Lawrence;Kennedy;Simon\", \"track\": \"01\", \"album\": \"- And Mimi\", \"bitrate\": \"286\", \"length\": \"02:47\", \"format\": \"VBR MP3\", \"original\": \"_78_--and-mimi_frankie-carle-and-his-orchestra-gregg-lawrence-kennedy-simon_gbia0006176a_01_2.0_CT_EQ.flac\", \"mtime\": \"1493242317\", \"size\": \"6087680\", \"md5\": \"c1acc0e03fec11fde623032412a510b1\", \"crc32\": \"bc56f204\", \"sha1\": \"4848e562db59ef28290016fb8895e1c199cd68b9\", \"height\": \"0\", \"width\": \"0\"}, {\"name\": \"_78_--and-mimi_frankie-carle-and-his-orchestra-gregg-lawrence-kennedy-simon_gbia0006176a_01_2.0_CT_EQ.png\", \"source\": \"derivative\", \"format\": \"PNG\", \"original\": \"_78_--and-mimi_frankie-carle-and-his-orchestra-gregg-lawrence-kennedy-simon_gbia0006176a_01_2.0_CT_EQ.flac\", \"mtime\": \"1493242467\", \"size\": \"12281\", \"md5\": \"86dd89d247126fa169cfc01a9c703c58\", \"crc32\": \"608002d9\", \"sha1\": \"662fbc9e537046dcc8e17c9a98e3ab8ea01d4bbd\"}, {\"name\": \"_78_--and-mimi_frankie-carle-and-his-orchestra-gregg-lawrence-kennedy-simon_gbia0006176a_01_2.0_CT_EQ_spectrogram.png\", \"source\": \"derivative\", \"format\": \"Spectrogram\", \"original\": \"_78_--and-mimi_frankie-carle-and-his-orchestra-gregg-lawrence-kennedy-simon_gbia0006176a_01_2.0_CT_EQ.flac\", \"mtime\": \"1493242521\", \"size\": \"255942\", \"md5\": \"ce9ae7e63a759f0ebade360061b4e729\", \"crc32\": \"d9fd9d06\", \"sha1\": \"45e7054b9d0b925934d5b0caeec706630a4f7631\"}, {\"name\": \"_78_--and-mimi_frankie-carle-and-his-orchestra-gregg-lawrence-kennedy-simon_gbia0006176a_01_2.0_CT_flat.afpk\", \"source\": \"derivative\", \"format\": \"Columbia Peaks\", \"original\": \"_78_--and-mimi_frankie-carle-and-his-orchestra-gregg-lawrence-kennedy-simon_gbia0006176a_01_2.0_CT_flat.flac\", \"mtime\": \"1493242599\", \"size\": \"32144\", \"md5\": \"b7173af5490eb158ce55c3a17589c424\", \"crc32\": \"d5efd717\", \"sha1\": \"100afc22e559728c49354f3168730c9e42214a21\"}, {\"name\": \"_78_--and-mimi_frankie-carle-and-his-orchestra-gregg-lawrence-kennedy-simon_gbia0006176a_01_2.0_CT_flat.flac\", \"source\": \"original\", \"mtime\": \"1493242132\", \"size\": \"66479019\", \"md5\": \"705a28cf824b589b04a5f683ffa71eaa\", \"crc32\": \"43c8c485\", \"sha1\": \"32f9c3d43b38957adf8514bdc970261d30db0e57\", \"format\": \"24bit Flac\", \"length\": \"167.25\", \"height\": \"1680\", \"width\": \"1680\", \"matrix_number\": \"HCO2467\", \"collection-catalog-number\": \"GBIA0006176A\", \"publisher\": \"Columbia\", \"album\": \"- And Mimi\", \"artist\": \"Frankie Carle and his Orchestra;Gregg Lawrence;Kennedy;Simon\", \"track\": \"01\", \"comment\": \"https://archive.org/details/78_--and-mimi_frankie-carle-and-his-orchestra-gregg-lawrence-kennedy-simon_gbia0006176a/_78_--and-mimi_frankie-carle-and-his-orchestra-gregg-lawrence-kennedy-simon_gbia0006176a_01_2.0_CT_flat.flac\\\\\"}, {\"name\": \"_78_--and-mimi_frankie-carle-and-his-orchestra-gregg-lawrence-kennedy-simon_gbia0006176a_01_2.0_CT_flat.mp3\", \"source\": \"derivative\", \"creator\": \"Frankie Carle and his Orchestra;Gregg Lawrence;Kennedy;Simon\", \"track\": \"01\", \"album\": \"- And Mimi\", \"bitrate\": \"301\", \"length\": \"02:47\", \"format\": \"VBR MP3\", \"original\": \"_78_--and-mimi_frankie-carle-and-his-orchestra-gregg-lawrence-kennedy-simon_gbia0006176a_01_2.0_CT_flat.flac\", \"mtime\": \"1493242344\", \"size\": \"6412800\", \"md5\": \"13c9a1d5b33de43f84ad1a8a6a175264\", \"crc32\": \"e4dd6427\", \"sha1\": \"c9817bb368313c7ef8bf4a468f4bf8c3826c36f0\", \"height\": \"0\", \"width\": \"0\"}, {\"name\": \"_78_--and-mimi_frankie-carle-and-his-orchestra-gregg-lawrence-kennedy-simon_gbia0006176a_01_2.0_CT_flat.png\", \"source\": \"derivative\", \"format\": \"PNG\", \"original\": \"_78_--and-mimi_frankie-carle-and-his-orchestra-gregg-lawrence-kennedy-simon_gbia0006176a_01_2.0_CT_flat.flac\", \"mtime\": \"1493242516\", \"size\": \"11351\", \"md5\": \"b83399944d40f275e62e9ef7fb86f32e\", \"crc32\": \"f5532f62\", \"sha1\": \"ab50614fb8bcbc88adccb05cba256299a94abab0\"}, {\"name\": \"_78_--and-mimi_frankie-carle-and-his-orchestra-gregg-lawrence-kennedy-simon_gbia0006176a_01_2.0_CT_flat_spectrogram.png\", \"source\": \"derivative\", \"format\": \"Spectrogram\", \"original\": \"_78_--and-mimi_frankie-carle-and-his-orchestra-gregg-lawrence-kennedy-simon_gbia0006176a_01_2.0_CT_flat.flac\", \"mtime\": \"1493242530\", \"size\": \"252876\", \"md5\": \"f8c138a946da4fedd26e3486ac2c2ef8\", \"crc32\": \"505d1423\", \"sha1\": \"9e6a714a079dc60b039383dd442325a6984b0e4c\"}, {\"name\": \"_78_--and-mimi_frankie-carle-and-his-orchestra-gregg-lawrence-kennedy-simon_gbia0006176a_02_2.3_CT_EQ.afpk\", \"source\": \"derivative\", \"format\": \"Columbia Peaks\", \"original\": \"_78_--and-mimi_frankie-carle-and-his-orchestra-gregg-lawrence-kennedy-simon_gbia0006176a_02_2.3_CT_EQ.flac\", \"mtime\": \"1493242573\", \"size\": \"33944\", \"md5\": \"be4c294f6d0622779aace02fc5912d82\", \"crc32\": \"52d603ad\", \"sha1\": \"a409021a5b2536ee4f4fded32e63334a090f34cb\"}, {\"name\": \"_78_--and-mimi_frankie-carle-and-his-orchestra-gregg-lawrence-kennedy-simon_gbia0006176a_02_2.3_CT_EQ.flac\", \"source\": \"original\", \"mtime\": \"1493242138\", \"size\": \"60400787\", \"md5\": \"a9a5828cfc5a97ca92d43f1aa0ce03ce\", \"crc32\": \"5ce77f05\", \"sha1\": \"e88df81e44d825a39633ae2b7261dece2ba72f8e\", \"format\": \"24bit Flac\", \"length\": \"167.25\", \"height\": \"1680\", \"width\": \"1680\", \"matrix_number\": \"HCO2467\", \"collection-catalog-number\": \"GBIA0006176A\", \"publisher\": \"Columbia\", \"album\": \"- And Mimi\", \"artist\": \"Frankie Carle and his Orchestra;Gregg Lawrence;Kennedy;Simon\", \"track\": \"01\", \"comment\": \"https://archive.org/details/78_--and-mimi_frankie-carle-and-his-orchestra-gregg-lawrence-kennedy-simon_gbia0006176a/_78_--and-mimi_frankie-carle-and-his-orchestra-gregg-lawrence-kennedy-simon_gbia0006176a_02_2.3_CT_EQ.flac\\\\\"}, {\"name\": \"_78_--and-mimi_frankie-carle-and-his-orchestra-gregg-lawrence-kennedy-simon_gbia0006176a_02_2.3_CT_EQ.mp3\", \"source\": \"derivative\", \"creator\": \"Frankie Carle and his Orchestra;Gregg Lawrence;Kennedy;Simon\", \"track\": \"01\", \"album\": \"- And Mimi\", \"bitrate\": \"282\", \"length\": \"02:47\", \"format\": \"VBR MP3\", \"original\": \"_78_--and-mimi_frankie-carle-and-his-orchestra-gregg-lawrence-kennedy-simon_gbia0006176a_02_2.3_CT_EQ.flac\", \"mtime\": \"1493242371\", \"size\": \"5999104\", \"md5\": \"99f7d65ece378007ad336d3b9be77377\", \"crc32\": \"f9456d1b\", \"sha1\": \"80ee6b5f4c84a89b1c06b02adabf1e821b65260c\", \"height\": \"0\", \"width\": \"0\"}, {\"name\": \"_78_--and-mimi_frankie-carle-and-his-orchestra-gregg-lawrence-kennedy-simon_gbia0006176a_02_2.3_CT_EQ.png\", \"source\": \"derivative\", \"format\": \"PNG\", \"original\": \"_78_--and-mimi_frankie-carle-and-his-orchestra-gregg-lawrence-kennedy-simon_gbia0006176a_02_2.3_CT_EQ.flac\", \"mtime\": \"1493242447\", \"size\": \"12844\", \"md5\": \"2c0d827b2ec03d608de6370b312a8174\", \"crc32\": \"085f7450\", \"sha1\": \"7c08212d82440bbded571952ba0c1159a8f6d619\"}, {\"name\": \"_78_--and-mimi_frankie-carle-and-his-orchestra-gregg-lawrence-kennedy-simon_gbia0006176a_02_2.3_CT_EQ_spectrogram.png\", \"source\": \"derivative\", \"format\": \"Spectrogram\", \"original\": \"_78_--and-mimi_frankie-carle-and-his-orchestra-gregg-lawrence-kennedy-simon_gbia0006176a_02_2.3_CT_EQ.flac\", \"mtime\": \"1493242525\", \"size\": \"275130\", \"md5\": \"f00c1d8cf58d1e6ec4a313203ad6f33d\", \"crc32\": \"4bc1feda\", \"sha1\": \"590e0b03541170a4dfef8f8879880a45d0329345\"}, {\"name\": \"_78_--and-mimi_frankie-carle-and-his-orchestra-gregg-lawrence-kennedy-simon_gbia0006176a_02_2.3_CT_flat.afpk\", \"source\": \"derivative\", \"format\": \"Columbia Peaks\", \"original\": \"_78_--and-mimi_frankie-carle-and-his-orchestra-gregg-lawrence-kennedy-simon_gbia0006176a_02_2.3_CT_flat.flac\", \"mtime\": \"1493242624\", \"size\": \"33568\", \"md5\": \"c6bb5a01f607e5a7728b97759457c4ec\", \"crc32\": \"0685a655\", \"sha1\": \"82170a03020e9d0bb0962be62721dde9847d7efd\"}, {\"name\": \"_78_--and-mimi_frankie-carle-and-his-orchestra-gregg-lawrence-kennedy-simon_gbia0006176a_02_2.3_CT_flat.flac\", \"source\": \"original\", \"mtime\": \"1493242146\", \"size\": \"66252557\", \"md5\": \"07a0d1cc1124a5d782e8bcafdb29603b\", \"crc32\": \"c07b2161\", \"sha1\": \"d09ec5165ecac35bdec16e4b0291ec86b43748f0\", \"format\": \"24bit Flac\", \"length\": \"167.25\", \"height\": \"1680\", \"width\": \"1680\", \"matrix_number\": \"HCO2467\", \"collection-catalog-number\": \"GBIA0006176A\", \"publisher\": \"Columbia\", \"album\": \"- And Mimi\", \"artist\": \"Frankie Carle and his Orchestra;Gregg Lawrence;Kennedy;Simon\", \"track\": \"01\", \"comment\": \"https://archive.org/details/78_--and-mimi_frankie-carle-and-his-orchestra-gregg-lawrence-kennedy-simon_gbia0006176a/_78_--and-mimi_frankie-carle-and-his-orchestra-gregg-lawrence-kennedy-simon_gbia0006176a_02_2.3_CT_flat.flac\\\\\"}, {\"name\": \"_78_--and-mimi_frankie-carle-and-his-orchestra-gregg-lawrence-kennedy-simon_gbia0006176a_02_2.3_CT_flat.mp3\", \"source\": \"derivative\", \"creator\": \"Frankie Carle and his Orchestra;Gregg Lawrence;Kennedy;Simon\", \"track\": \"01\", \"album\": \"- And Mimi\", \"bitrate\": \"299\", \"length\": \"02:47\", \"format\": \"VBR MP3\", \"original\": \"_78_--and-mimi_frankie-carle-and-his-orchestra-gregg-lawrence-kennedy-simon_gbia0006176a_02_2.3_CT_flat.flac\", \"mtime\": \"1493242404\", \"size\": \"6352384\", \"md5\": \"914c4112918d9a9797ab0d762a052aa0\", \"crc32\": \"17d03806\", \"sha1\": \"f7d0e24fe8fd129d59218e401cd8be0b4c5edbdc\", \"height\": \"0\", \"width\": \"0\"}, {\"name\": \"_78_--and-mimi_frankie-carle-and-his-orchestra-gregg-lawrence-kennedy-simon_gbia0006176a_02_2.3_CT_flat.png\", \"source\": \"derivative\", \"format\": \"PNG\", \"original\": \"_78_--and-mimi_frankie-carle-and-his-orchestra-gregg-lawrence-kennedy-simon_gbia0006176a_02_2.3_CT_flat.flac\", \"mtime\": \"1493242456\", \"size\": \"12021\", \"md5\": \"f27d2501c6542045e2e7b97959d566f0\", \"crc32\": \"90c58f68\", \"sha1\": \"95352eab2ec9c1bab150900cc2ab06a052deea19\"}, {\"name\": \"_78_--and-mimi_frankie-carle-and-his-orchestra-gregg-lawrence-kennedy-simon_gbia0006176a_02_2.3_CT_flat_spectrogram.png\", \"source\": \"derivative\", \"format\": \"Spectrogram\", \"original\": \"_78_--and-mimi_frankie-carle-and-his-orchestra-gregg-lawrence-kennedy-simon_gbia0006176a_02_2.3_CT_flat.flac\", \"mtime\": \"1493242535\", \"size\": \"271122\", \"md5\": \"bfc12970a7044ab22f1a0bd87e20cde3\", \"crc32\": \"4b1cc220\", \"sha1\": \"5b93fe1e16827f567ca366cf4234e15d94019f3a\"}, {\"name\": \"_78_--and-mimi_frankie-carle-and-his-orchestra-gregg-lawrence-kennedy-simon_gbia0006176a_03_2.8_CT_EQ.afpk\", \"source\": \"derivative\", \"format\": \"Columbia Peaks\", \"original\": \"_78_--and-mimi_frankie-carle-and-his-orchestra-gregg-lawrence-kennedy-simon_gbia0006176a_03_2.8_CT_EQ.flac\", \"mtime\": \"1493242565\", \"size\": \"34072\", \"md5\": \"88b4959f7934be985d2e7459409b0f1b\", \"crc32\": \"9ebf5f69\", \"sha1\": \"c5b02b707d5b48bbd04bc7ea094942333493d277\"}, {\"name\": \"_78_--and-mimi_frankie-carle-and-his-orchestra-gregg-lawrence-kennedy-simon_gbia0006176a_03_2.8_CT_EQ.flac\", \"source\": \"original\", \"mtime\": \"1493242153\", \"size\": \"60935303\", \"md5\": \"0c279f4c01fc87097c33d214e2d89572\", \"crc32\": \"95ed628f\", \"sha1\": \"6c93821d9d910e3de207d7850ed9590e6b9443f5\", \"format\": \"24bit Flac\", \"length\": \"167.25\", \"height\": \"1680\", \"width\": \"1680\", \"matrix_number\": \"HCO2467\", \"collection-catalog-number\": \"GBIA0006176A\", \"publisher\": \"Columbia\", \"album\": \"- And Mimi\", \"artist\": \"Frankie Carle and his Orchestra;Gregg Lawrence;Kennedy;Simon\", \"track\": \"01\", \"comment\": \"https://archive.org/details/78_--and-mimi_frankie-carle-and-his-orchestra-gregg-lawrence-kennedy-simon_gbia0006176a/_78_--and-mimi_frankie-carle-and-his-orchestra-gregg-lawrence-kennedy-simon_gbia0006176a_03_2.8_CT_EQ.flac\\\\\"}, {\"name\": \"_78_--and-mimi_frankie-carle-and-his-orchestra-gregg-lawrence-kennedy-simon_gbia0006176a_03_2.8_CT_EQ.mp3\", \"source\": \"derivative\", \"creator\": \"Frankie Carle and his Orchestra;Gregg Lawrence;Kennedy;Simon\", \"track\": \"01\", \"album\": \"- And Mimi\", \"bitrate\": \"253\", \"length\": \"02:47\", \"format\": \"VBR MP3\", \"original\": \"_78_--and-mimi_frankie-carle-and-his-orchestra-gregg-lawrence-kennedy-simon_gbia0006176a_03_2.8_CT_EQ.flac\", \"mtime\": \"1493242302\", \"size\": \"5408256\", \"md5\": \"235255f58fa6414cebf0b960fe680720\", \"crc32\": \"785825e2\", \"sha1\": \"6fbcd11a2f090396a8bd7472897e7a11b1f41ca2\", \"height\": \"0\", \"width\": \"0\"}, {\"name\": \"_78_--and-mimi_frankie-carle-and-his-orchestra-gregg-lawrence-kennedy-simon_gbia0006176a_03_2.8_CT_EQ.png\", \"source\": \"derivative\", \"format\": \"PNG\", \"original\": \"_78_--and-mimi_frankie-carle-and-his-orchestra-gregg-lawrence-kennedy-simon_gbia0006176a_03_2.8_CT_EQ.flac\", \"mtime\": \"1493242502\", \"size\": \"12230\", \"md5\": \"df1c2ead7e3fc1544bd3a03df177d33c\", \"crc32\": \"1bf6116c\", \"sha1\": \"61be91e7767dc55bd5fff908a1e16d0d13d29c0e\"}, {\"name\": \"_78_--and-mimi_frankie-carle-and-his-orchestra-gregg-lawrence-kennedy-simon_gbia0006176a_03_2.8_CT_EQ_spectrogram.png\", \"source\": \"derivative\", \"format\": \"Spectrogram\", \"original\": \"_78_--and-mimi_frankie-carle-and-his-orchestra-gregg-lawrence-kennedy-simon_gbia0006176a_03_2.8_CT_EQ.flac\", \"mtime\": \"1493242539\", \"size\": \"278348\", \"md5\": \"0c70e9e6c6d61fc4374e717c813c3a92\", \"crc32\": \"0676daf8\", \"sha1\": \"57d1bc34ae114aca43267abc8ebe6ddf2326be1a\"}, {\"name\": \"_78_--and-mimi_frankie-carle-and-his-orchestra-gregg-lawrence-kennedy-simon_gbia0006176a_03_2.8_CT_flat.afpk\", \"source\": \"derivative\", \"format\": \"Columbia Peaks\", \"original\": \"_78_--and-mimi_frankie-carle-and-his-orchestra-gregg-lawrence-kennedy-simon_gbia0006176a_03_2.8_CT_flat.flac\", \"mtime\": \"1493242615\", \"size\": \"33936\", \"md5\": \"02d9364f749d8e255fe7e1b1b650fa3d\", \"crc32\": \"722f7e99\", \"sha1\": \"68947e02b69fa6ff1f670b1923bb4d6b7162a303\"}, {\"name\": \"_78_--and-mimi_frankie-carle-and-his-orchestra-gregg-lawrence-kennedy-simon_gbia0006176a_03_2.8_CT_flat.flac\", \"source\": \"original\", \"mtime\": \"1493242160\", \"size\": \"66961255\", \"md5\": \"ab2061d81c1c996b3bc0730f0e5fdb66\", \"crc32\": \"ce42ceda\", \"sha1\": \"f379604ec1841a2e93e8110e07d37c77e2ecba7a\", \"format\": \"24bit Flac\", \"length\": \"167.25\", \"height\": \"1680\", \"width\": \"1680\", \"matrix_number\": \"HCO2467\", \"collection-catalog-number\": \"GBIA0006176A\", \"publisher\": \"Columbia\", \"album\": \"- And Mimi\", \"artist\": \"Frankie Carle and his Orchestra;Gregg Lawrence;Kennedy;Simon\", \"track\": \"01\", \"comment\": \"https://archive.org/details/78_--and-mimi_frankie-carle-and-his-orchestra-gregg-lawrence-kennedy-simon_gbia0006176a/_78_--and-mimi_frankie-carle-and-his-orchestra-gregg-lawrence-kennedy-simon_gbia0006176a_03_2.8_CT_flat.flac\\\\\"}, {\"name\": \"_78_--and-mimi_frankie-carle-and-his-orchestra-gregg-lawrence-kennedy-simon_gbia0006176a_03_2.8_CT_flat.mp3\", \"source\": \"derivative\", \"creator\": \"Frankie Carle and his Orchestra;Gregg Lawrence;Kennedy;Simon\", \"track\": \"01\", \"album\": \"- And Mimi\", \"bitrate\": \"269\", \"length\": \"02:47\", \"format\": \"VBR MP3\", \"original\": \"_78_--and-mimi_frankie-carle-and-his-orchestra-gregg-lawrence-kennedy-simon_gbia0006176a_03_2.8_CT_flat.flac\", \"mtime\": \"1493242390\", \"size\": \"5731840\", \"md5\": \"16f0c00f510963093a664c6d958c318f\", \"crc32\": \"48f2aab9\", \"sha1\": \"b83e779a14fd5d1403e77c468ba43012872ace09\", \"height\": \"0\", \"width\": \"0\"}, {\"name\": \"_78_--and-mimi_frankie-carle-and-his-orchestra-gregg-lawrence-kennedy-simon_gbia0006176a_03_2.8_CT_flat.png\", \"source\": \"derivative\", \"format\": \"PNG\", \"original\": \"_78_--and-mimi_frankie-carle-and-his-orchestra-gregg-lawrence-kennedy-simon_gbia0006176a_03_2.8_CT_flat.flac\", \"mtime\": \"1493242422\", \"size\": \"11275\", \"md5\": \"d86485d34a6c506d9b3b8c511654e1f0\", \"crc32\": \"79e2fea5\", \"sha1\": \"91e41da55922365ff254db13b4979a0aaff425d5\"}, {\"name\": \"_78_--and-mimi_frankie-carle-and-his-orchestra-gregg-lawrence-kennedy-simon_gbia0006176a_03_2.8_CT_flat_spectrogram.png\", \"source\": \"derivative\", \"format\": \"Spectrogram\", \"original\": \"_78_--and-mimi_frankie-carle-and-his-orchestra-gregg-lawrence-kennedy-simon_gbia0006176a_03_2.8_CT_flat.flac\", \"mtime\": \"1493242547\", \"size\": \"275396\", \"md5\": \"5c61a18cf7994f645d088df44620ceb4\", \"crc32\": \"55c8336c\", \"sha1\": \"6207b9e8d862ed593fe2603e3af82fae2680f745\"}, {\"name\": \"_78_--and-mimi_frankie-carle-and-his-orchestra-gregg-lawrence-kennedy-simon_gbia0006176a_04_3.3_CT_EQ.afpk\", \"source\": \"derivative\", \"format\": \"Columbia Peaks\", \"original\": \"_78_--and-mimi_frankie-carle-and-his-orchestra-gregg-lawrence-kennedy-simon_gbia0006176a_04_3.3_CT_EQ.flac\", \"mtime\": \"1493242589\", \"size\": \"35232\", \"md5\": \"0810cdd1c3ec7fd2759acf05e2aa2708\", \"crc32\": \"8cbc7bec\", \"sha1\": \"7fc5df2feb1fe4e46fc84eafd7b5c208f60872c1\"}, {\"name\": \"_78_--and-mimi_frankie-carle-and-his-orchestra-gregg-lawrence-kennedy-simon_gbia0006176a_04_3.3_CT_EQ.flac\", \"source\": \"original\", \"mtime\": \"1493242164\", \"size\": \"60054463\", \"md5\": \"ecd53b147e77b70a87e2670eb178108f\", \"crc32\": \"84c48a89\", \"sha1\": \"6cbf0635b7ae90c81dcf24a3e8780e85c623d317\", \"format\": \"24bit Flac\", \"length\": \"167.25\", \"height\": \"1680\", \"width\": \"1680\", \"matrix_number\": \"HCO2467\", \"collection-catalog-number\": \"GBIA0006176A\", \"publisher\": \"Columbia\", \"album\": \"- And Mimi\", \"artist\": \"Frankie Carle and his Orchestra;Gregg Lawrence;Kennedy;Simon\", \"track\": \"01\", \"comment\": \"https://archive.org/details/78_--and-mimi_frankie-carle-and-his-orchestra-gregg-lawrence-kennedy-simon_gbia0006176a/_78_--and-mimi_frankie-carle-and-his-orchestra-gregg-lawrence-kennedy-simon_gbia0006176a_04_3.3_CT_EQ.flac\\\\\"}, {\"name\": \"_78_--and-mimi_frankie-carle-and-his-orchestra-gregg-lawrence-kennedy-simon_gbia0006176a_04_3.3_CT_EQ.mp3\", \"source\": \"derivative\", \"creator\": \"Frankie Carle and his Orchestra;Gregg Lawrence;Kennedy;Simon\", \"track\": \"01\", \"album\": \"- And Mimi\", \"bitrate\": \"234\", \"length\": \"02:47\", \"format\": \"VBR MP3\", \"original\": \"_78_--and-mimi_frankie-carle-and-his-orchestra-gregg-lawrence-kennedy-simon_gbia0006176a_04_3.3_CT_EQ.flac\", \"mtime\": \"1493242357\", \"size\": \"5007872\", \"md5\": \"00db5df067a2b5edbc471d6e7ccb48c4\", \"crc32\": \"3957f059\", \"sha1\": \"bac4c1e735b538afdfb7e911c0bd138419937e88\", \"height\": \"0\", \"width\": \"0\"}, {\"name\": \"_78_--and-mimi_frankie-carle-and-his-orchestra-gregg-lawrence-kennedy-simon_gbia0006176a_04_3.3_CT_EQ.png\", \"source\": \"derivative\", \"format\": \"PNG\", \"original\": \"_78_--and-mimi_frankie-carle-and-his-orchestra-gregg-lawrence-kennedy-simon_gbia0006176a_04_3.3_CT_EQ.flac\", \"mtime\": \"1493242487\", \"size\": \"12382\", \"md5\": \"d68b86022a58d43ae7f9cc73a809a390\", \"crc32\": \"2dd6abba\", \"sha1\": \"d157f93eb27ed795b6e41c6d639b70dff7ad6c41\"}, {\"name\": \"_78_--and-mimi_frankie-carle-and-his-orchestra-gregg-lawrence-kennedy-simon_gbia0006176a_04_3.3_CT_EQ_spectrogram.png\", \"source\": \"derivative\", \"format\": \"Spectrogram\", \"original\": \"_78_--and-mimi_frankie-carle-and-his-orchestra-gregg-lawrence-kennedy-simon_gbia0006176a_04_3.3_CT_EQ.flac\", \"mtime\": \"1493242551\", \"size\": \"275254\", \"md5\": \"c2be78a480c775db89c048b37a7bbb4a\", \"crc32\": \"9a536af5\", \"sha1\": \"c7b0310cf667248fb41257d4890bdd888a84814b\"}, {\"name\": \"_78_--and-mimi_frankie-carle-and-his-orchestra-gregg-lawrence-kennedy-simon_gbia0006176a_04_3.3_CT_flat.afpk\", \"source\": \"derivative\", \"format\": \"Columbia Peaks\", \"original\": \"_78_--and-mimi_frankie-carle-and-his-orchestra-gregg-lawrence-kennedy-simon_gbia0006176a_04_3.3_CT_flat.flac\", \"mtime\": \"1493242581\", \"size\": \"34352\", \"md5\": \"34cb90460797fba161fb09972338fe07\", \"crc32\": \"33e4fb31\", \"sha1\": \"842d9c81c67e72f124a965ea9a65feb1f71bb399\"}, {\"name\": \"_78_--and-mimi_frankie-carle-and-his-orchestra-gregg-lawrence-kennedy-simon_gbia0006176a_04_3.3_CT_flat.flac\", \"source\": \"original\", \"mtime\": \"1493242170\", \"size\": \"66205575\", \"md5\": \"f6c24df723ade692c00729ab12a6db5e\", \"crc32\": \"9a123403\", \"sha1\": \"98b578891d1fc01fe7d635ee45d9fc0047ae2183\", \"format\": \"24bit Flac\", \"length\": \"167.25\", \"height\": \"1680\", \"width\": \"1680\", \"matrix_number\": \"HCO2467\", \"collection-catalog-number\": \"GBIA0006176A\", \"publisher\": \"Columbia\", \"album\": \"- And Mimi\", \"artist\": \"Frankie Carle and his Orchestra;Gregg Lawrence;Kennedy;Simon\", \"track\": \"01\", \"comment\": \"https://archive.org/details/78_--and-mimi_frankie-carle-and-his-orchestra-gregg-lawrence-kennedy-simon_gbia0006176a/_78_--and-mimi_frankie-carle-and-his-orchestra-gregg-lawrence-kennedy-simon_gbia0006176a_04_3.3_CT_flat.flac\\\\\"}, {\"name\": \"_78_--and-mimi_frankie-carle-and-his-orchestra-gregg-lawrence-kennedy-simon_gbia0006176a_04_3.3_CT_flat.mp3\", \"source\": \"derivative\", \"creator\": \"Frankie Carle and his Orchestra;Gregg Lawrence;Kennedy;Simon\", \"track\": \"01\", \"album\": \"- And Mimi\", \"bitrate\": \"247\", \"length\": \"02:47\", \"format\": \"VBR MP3\", \"original\": \"_78_--and-mimi_frankie-carle-and-his-orchestra-gregg-lawrence-kennedy-simon_gbia0006176a_04_3.3_CT_flat.flac\", \"mtime\": \"1493242330\", \"size\": \"5271552\", \"md5\": \"1394e84c3297655355c8ce3ead0fadf1\", \"crc32\": \"e6321478\", \"sha1\": \"0380b05f9bdba7cae0e686766603d4edd4b4d65f\", \"height\": \"0\", \"width\": \"0\"}, {\"name\": \"_78_--and-mimi_frankie-carle-and-his-orchestra-gregg-lawrence-kennedy-simon_gbia0006176a_04_3.3_CT_flat.png\", \"source\": \"derivative\", \"format\": \"PNG\", \"original\": \"_78_--and-mimi_frankie-carle-and-his-orchestra-gregg-lawrence-kennedy-simon_gbia0006176a_04_3.3_CT_flat.flac\", \"mtime\": \"1493242437\", \"size\": \"11958\", \"md5\": \"7658b04472d10b5bc73635bef1fe4b14\", \"crc32\": \"400a6fd7\", \"sha1\": \"b4e33ff3b650fae4ad3e9ae1689626704c08e919\"}, {\"name\": \"_78_--and-mimi_frankie-carle-and-his-orchestra-gregg-lawrence-kennedy-simon_gbia0006176a_04_3.3_CT_flat_spectrogram.png\", \"source\": \"derivative\", \"format\": \"Spectrogram\", \"original\": \"_78_--and-mimi_frankie-carle-and-his-orchestra-gregg-lawrence-kennedy-simon_gbia0006176a_04_3.3_CT_flat.flac\", \"mtime\": \"1493242543\", \"size\": \"271858\", \"md5\": \"81a81e32fbe3a2861df5f09c8b2e70b4\", \"crc32\": \"abe3d50c\", \"sha1\": \"522149218025b0cd253a2c349c80ec257218ad76\"}, {\"name\": \"__ia_thumb.jpg\", \"source\": \"original\", \"mtime\": \"1537433876\", \"size\": \"11072\", \"md5\": \"8350dab95dd82baca1566af2770ed1ad\", \"crc32\": \"2081ef22\", \"sha1\": \"cad472fc5a2c4cd57a6aec8905ffe1e237ffdaa2\", \"format\": \"Item Tile\", \"rotation\": \"0\"}], \"files_count\": 56, \"item_last_updated\": 1557532408, \"item_size\": 649300769, \"metadata\": {\"identifier\": \"78_--and-mimi_frankie-carle-and-his-orchestra-gregg-lawrence-kennedy-simon_gbia0006176a\", \"boxid\": \"IA1437607\", \"collection\": [\"78rpm\", \"78rpm_thorpe\", \"georgeblood\", \"audio_music\"], \"collection-catalog-number\": \"GBIA0006176A\", \"condition\": \"Good\", \"contributor\": \"Internet Archive\", \"coverage\": \"USA\", \"creator\": [\"Frankie Carle and his Orchestra\", \"Gregg Lawrence\", \"Kennedy\", \"Simon\"], \"description\": \"<p><b>Performer:</b> Frankie Carle and his Orchestra; Gregg Lawrence<br /><b>Writer:</b> Kennedy; Simon</p><p>Fox Trot; (Pronounced \\\"Mee-Mee\\\").</p><p>Digitized at 78 revolutions per minute. Four stylii were used to transfer this record. They are 2.0 mil truncated conical, 2.3 mil truncated conical, 2.8 mil truncated conical, 3.3 mil truncated conical. These were recorded flat and then also equalized with Turnover: 400.0, Rolloff: -12.0.</p><p>The preferred versions suggested by an audio engineer at George Blood, L.P. have been copied to have the more friendly filenames.</p><p><b>Matrix number:</b> HCO2467<br /><b>Catalog number:</b> 37819</p><p>Other IDs from the record include: (HCO 2467)</p>\", \"external-identifier\": \"urn:matrix_no:HCO2467\", \"genre\": \"Popular Music\", \"language\": \"English\", \"mediatype\": \"audio\", \"publisher\": \"Columbia\", \"runtime\": \"00:02:47\", \"scanner\": \"Internet Archive Python library 1.5.0\", \"scanningcenter\": \"George Blood, L.P.\", \"shiptracking\": \"16210_16265_16312_16372\", \"size\": \"10.0\", \"source\": \"78\", \"sponsor\": \"Kahle/Austin Foundation\", \"subject\": [\"78rpm\", \"Popular Music\"], \"title\": \"- And Mimi\", \"uploader\": \"jake@archive.org\", \"addeddate\": \"2017-04-26 21:28:24\", \"publicdate\": \"2017-04-26 21:30:21\", \"date\": \"1947-07\", \"notes\": \"<p>The recording on the other side of this disc: <a href=\\\"/details/78_for-once-in-your-life_frankie-carle-and-his-orchestra-gregg-lawrence-segal-fisher_gbia0006176b\\\" rel=\\\"nofollow\\\">For Once In Your Life</a></p>\", \"backup_location\": \"ia906403_0\", \"external_metadata_update\": \"2019-04-01T00:19:30Z\", \"publisher-catalog-number\": \"37819\"}, \"reviews\": [{\"reviewbody\": \"07/??/47 is from http://www.78discography.com/COL37500.htm interpreted as 1947-07\", \"reviewtitle\": \"78rpm record from 07/??/47\", \"reviewer\": \"brewbot\", \"reviewdate\": \"2017-04-27 01:36:02\", \"createdate\": \"2017-04-27 01:36:02\", \"stars\": \"0\"}], \"roles\": {\"performer\": [\"Frankie Carle and his Orchestra\", \"Gregg Lawrence\"], \"writer\": [\"Kennedy\", \"Simon\"]}, \"server\": \"ia801609.us.archive.org\", \"uniq\": 1735322957, \"workable_servers\": [\"ia801609.us.archive.org\", \"ia601609.us.archive.org\"]}\n"
          ],
          "name": "stdout"
        }
      ]
    },
    {
      "cell_type": "markdown",
      "metadata": {
        "id": "400onkge28NP",
        "colab_type": "text"
      },
      "source": [
        "Getting a field out of json is easy with a cool tool called jq: it is a world in itself, so helpful to get to know it."
      ]
    },
    {
      "cell_type": "markdown",
      "metadata": {
        "id": "PiCgS89D5tff",
        "colab_type": "text"
      },
      "source": [
        "I use \"jq -r\" when I do not want the quotation marks to return, or if I want them then just \"jq\""
      ]
    },
    {
      "cell_type": "code",
      "metadata": {
        "id": "JPVloaRv3i10",
        "colab_type": "code",
        "colab": {
          "base_uri": "https://localhost:8080/",
          "height": 52
        },
        "outputId": "c3f2d5b4-3ae0-4b58-d2eb-020e9cfef582"
      },
      "source": [
        "!echo '{\"foo\":\"thing\", \"bar\":\"other thing\"}' | jq -r .bar\n",
        "!echo '{\"foo\":\"thing\", \"bar\":\"other thing\"}' | jq .bar"
      ],
      "execution_count": null,
      "outputs": [
        {
          "output_type": "stream",
          "text": [
            "other thing\n",
            "\u001b[0;32m\"other thing\"\u001b[0m\n"
          ],
          "name": "stdout"
        }
      ]
    },
    {
      "cell_type": "markdown",
      "metadata": {
        "id": "5x2A0-BY57G2",
        "colab_type": "text"
      },
      "source": [
        "Say you wanted to list all the paramount 78's and their catalog numbers (a researcher in the netherlands wanted to know this, and there is no easy way to list it on archive.org's UI).\n",
        "\n",
        "Lets find the names of the metadata fields of one of the 78s, so we can find the ones we want to pull out.\n",
        "\n",
        "Before we do this, lets use another handy tool: GNU Parallel.  helpful for speeding things up by running in parallel, but also just for constructing ia command lines.  (there is an odd thing with the parallel command: if you put --will-cite as a parameter it does not ask you for money) "
      ]
    },
    {
      "cell_type": "code",
      "metadata": {
        "id": "6SKYncFT7ryU",
        "colab_type": "code",
        "colab": {
          "base_uri": "https://localhost:8080/",
          "height": 923
        },
        "outputId": "3bb0e450-5877-4183-fc4e-c4b81fdc7924"
      },
      "source": [
        "#print one identifier:\n",
        "!echo \"\"\n",
        "!echo \"#One identifier:\"\n",
        "!ia search \"collection:georgeblood AND publisher:paramount\" --itemlist | head -1\n",
        "\n",
        "#print the json, but it is all in one line, so it is hard to read\n",
        "!echo \"\"\n",
        "!echo \"#Metadata for that identifier as json:\"\n",
        "!ia search \"collection:georgeblood AND publisher:paramount\" --itemlist | head -1 | parallel --will-cite 'ia metadata {}'\n",
        "\n",
        "#pretty print just the item's catalog metadata part of the metadata (little confusing, but there is other metadata)\n",
        "!echo \"\"\n",
        "!echo \"Pretty print part of the metadata for that identifier as json:\"\n",
        "!ia search \"collection:georgeblood AND publisher:paramount\" --itemlist | head -1 | parallel --will-cite 'ia metadata {}' | jq .metadata"
      ],
      "execution_count": null,
      "outputs": [
        {
          "output_type": "stream",
          "text": [
            "\n",
            "#One identifier:\n",
            "78_1.-kitchen-parade-2.-a-family-is-a-blanket_chubbys-rascals-david-jackson_gbia0003323b\n",
            "\n",
            "#Metadata for that identifier as json:\n",
            "{\"created\": 1600021497, \"d1\": \"ia600603.us.archive.org\", \"d2\": \"ia800603.us.archive.org\", \"dir\": \"/29/items/78_1.-kitchen-parade-2.-a-family-is-a-blanket_chubbys-rascals-david-jackson_gbia0003323b\", \"files\": [{\"name\": \"1. Kitchen Parade; 2. A Family Is A Blanket - Chubby's Rascals.afpk\", \"source\": \"derivative\", \"format\": \"Columbia Peaks\", \"original\": \"1. Kitchen Parade; 2. A Family Is A Blanket - Chubby's Rascals.flac\", \"mtime\": \"1489020126\", \"size\": \"47960\", \"md5\": \"750b906c751e76bf501a21960b1550dc\", \"crc32\": \"66196366\", \"sha1\": \"8747a905254f3eb1f95d6c1e046ac047d82cdc8e\"}, {\"name\": \"1. Kitchen Parade; 2. A Family Is A Blanket - Chubby's Rascals.flac\", \"source\": \"original\", \"mtime\": \"1489019670\", \"size\": \"92570551\", \"md5\": \"baef67d8c3f7ef6eb9d153464ed341e7\", \"crc32\": \"789aea7f\", \"sha1\": \"941a15382aafec829bc587d1f8441e2b0a2bac97\", \"format\": \"24bit Flac\", \"length\": \"269.99\", \"height\": \"1680\", \"width\": \"1680\", \"title\": \"1. Kitchen Parade; 2. A Family Is A Blanket\", \"album\": \"1. Kitchen Parade; 2. A Family Is A Blanket\", \"artist\": \"Chubby's Rascals;David;Jackson\", \"track\": \"01\", \"comment\": \"This file was digitized at George Blood, L.P. using a 2.0mm truncated conical stylus, and equalized with Turnover: 400.0, Rolloff: -12.0.\\\\\", \"external-identifier-match-date\": \"acoustid:2019-03-18T21:08:33Z\", \"external-identifier\": \"urn:acoustid:5809d74d-9caa-43f4-bb09-3ee764b41465\"}, {\"name\": \"1. Kitchen Parade; 2. A Family Is A Blanket - Chubby's Rascals.mp3\", \"source\": \"derivative\", \"creator\": \"Chubby's Rascals;David;Jackson\", \"title\": \"1. Kitchen Parade; 2. A Family Is A Blanket\", \"track\": \"01\", \"album\": \"1. Kitchen Parade; 2. A Family Is A Blanket\", \"bitrate\": \"239\", \"length\": \"04:30\", \"format\": \"VBR MP3\", \"original\": \"1. Kitchen Parade; 2. A Family Is A Blanket - Chubby's Rascals.flac\", \"mtime\": \"1489019856\", \"size\": \"8187392\", \"md5\": \"89749c4122045a33636247fc6d26fc9b\", \"crc32\": \"ffe8374a\", \"sha1\": \"44750ded28fff4fc0de6dd40043b7b47d957fdf2\", \"height\": \"0\", \"width\": \"0\"}, {\"name\": \"1. Kitchen Parade; 2. A Family Is A Blanket - Chubby's Rascals.png\", \"source\": \"derivative\", \"format\": \"PNG\", \"original\": \"1. Kitchen Parade; 2. A Family Is A Blanket - Chubby's Rascals.flac\", \"mtime\": \"1489020011\", \"size\": \"10645\", \"md5\": \"1582b7f5bc870cd0bb679cd6574e060e\", \"crc32\": \"b59c43e1\", \"sha1\": \"1282f81d53e9718ed6c508e8b9d007b293574c0b\"}, {\"name\": \"1. Kitchen Parade; 2. A Family Is A Blanket - Chubby's Rascals_spectrogram.png\", \"source\": \"derivative\", \"format\": \"Spectrogram\", \"original\": \"1. Kitchen Parade; 2. A Family Is A Blanket - Chubby's Rascals.flac\", \"mtime\": \"1489020077\", \"size\": \"281846\", \"md5\": \"9d72804a3108237f7c334a442bc3c0f4\", \"crc32\": \"ec9532be\", \"sha1\": \"19fb2e65bda8dc57d165d8d5ca68f25f4c129c8e\"}, {\"name\": \"78_1.-kitchen-parade-2.-a-family-is-a-blanket_chubbys-rascals-david-jackson_gbia0003323b.tif\", \"source\": \"original\", \"mtime\": \"1489019644\", \"size\": \"26847510\", \"md5\": \"9ba62e671c8a65e823fa21af61c54e56\", \"crc32\": \"655e33db\", \"sha1\": \"fa4b8f015be1da63faeb19ab9e927f5e8c430536\", \"format\": \"TIFF\"}, {\"name\": \"78_1.-kitchen-parade-2.-a-family-is-a-blanket_chubbys-rascals-david-jackson_gbia0003323b_archive.torrent\", \"source\": \"metadata\", \"btih\": \"aa05a5aea70acba6a158bac95c732364dd520629\", \"mtime\": \"1558130597\", \"size\": \"52637\", \"md5\": \"273570b508ef5fdee0f8273fca05fbd5\", \"crc32\": \"18f2adc2\", \"sha1\": \"112ca436af2fa85a9ae4580d8c37250593a3adf1\", \"format\": \"Archive BitTorrent\"}, {\"name\": \"78_1.-kitchen-parade-2.-a-family-is-a-blanket_chubbys-rascals-david-jackson_gbia0003323b_files.xml\", \"source\": \"original\", \"format\": \"Metadata\", \"md5\": \"ed29fddc7b0a2bf38454a84d946d15c2\"}, {\"name\": \"78_1.-kitchen-parade-2.-a-family-is-a-blanket_chubbys-rascals-david-jackson_gbia0003323b_itemimage.jpg\", \"source\": \"original\", \"mtime\": \"1489019676\", \"size\": \"366591\", \"md5\": \"da181255ba69472d14855e9cf43366c8\", \"crc32\": \"79ddfc59\", \"sha1\": \"8ca146c4b5a60d575dff96e83a40f48d0a932074\", \"format\": \"Item Image\", \"rotation\": \"0\"}, {\"name\": \"78_1.-kitchen-parade-2.-a-family-is-a-blanket_chubbys-rascals-david-jackson_gbia0003323b_meta.sqlite\", \"source\": \"original\", \"mtime\": \"1489019780\", \"size\": \"56320\", \"format\": \"Metadata\", \"md5\": \"19d7d6a189aae6ef209363f4f2649e5c\", \"crc32\": \"022a6211\", \"sha1\": \"ac66b3c27c5571710b8d6b3ebd0a85642e39a6a2\"}, {\"name\": \"78_1.-kitchen-parade-2.-a-family-is-a-blanket_chubbys-rascals-david-jackson_gbia0003323b_meta.xml\", \"source\": \"original\", \"mtime\": \"1558130591\", \"size\": \"2599\", \"format\": \"Metadata\", \"md5\": \"6af9eb7c3ff17430d0cadd7dc9fdc7c2\", \"crc32\": \"f913f464\", \"sha1\": \"7bbcc330dd036f707d2d721a6f9b3fb6dc8ee8e5\"}, {\"name\": \"78_1.-kitchen-parade-2.-a-family-is-a-blanket_chubbys-rascals-david-jackson_gbia0003323b_reviews.xml\", \"source\": \"original\", \"mtime\": \"1526905029\", \"size\": \"730\", \"md5\": \"022a166938d9d4c90762e963249039b2\", \"crc32\": \"76bda216\", \"sha1\": \"a15b90c0a9dff0c3eb091c8494d5652f3ba5f3dd\", \"format\": \"Metadata\"}, {\"name\": \"78_1.-kitchen-parade-2.-a-family-is-a-blanket_chubbys-rascals-david-jackson_gbia0003323b_roles.json\", \"source\": \"original\", \"mtime\": \"1489019772\", \"size\": \"54\", \"md5\": \"0af0fe2a48654d2de976b211ece4290d\", \"crc32\": \"b6f663f0\", \"sha1\": \"bd5bfe73e58ec889cdfe6bb29f3abba3e8b65a26\", \"format\": \"JSON\"}, {\"name\": \"78_1.-kitchen-parade-2.-a-family-is-a-blanket_chubbys-rascals-david-jackson_gbia0003323b_thumb.jpg\", \"source\": \"derivative\", \"format\": \"JPEG Thumb\", \"original\": \"78_1.-kitchen-parade-2.-a-family-is-a-blanket_chubbys-rascals-david-jackson_gbia0003323b.tif\", \"mtime\": \"1489019963\", \"size\": \"3839\", \"md5\": \"cccb3e7d79736f43565b96e039ce3bc6\", \"crc32\": \"6227746b\", \"sha1\": \"0df7a0a8ce95538808bf5381e2d092b16caaea8e\"}, {\"name\": \"_78_1.-kitchen-parade-2.-a-family-is-a-blanket_chubbys-rascals-david-jackson_gbia0003323b_01_2.0_CT_EQ.afpk\", \"source\": \"derivative\", \"format\": \"Columbia Peaks\", \"original\": \"_78_1.-kitchen-parade-2.-a-family-is-a-blanket_chubbys-rascals-david-jackson_gbia0003323b_01_2.0_CT_EQ.flac\", \"mtime\": \"1489020108\", \"size\": \"47960\", \"md5\": \"750b906c751e76bf501a21960b1550dc\", \"crc32\": \"66196366\", \"sha1\": \"8747a905254f3eb1f95d6c1e046ac047d82cdc8e\"}, {\"name\": \"_78_1.-kitchen-parade-2.-a-family-is-a-blanket_chubbys-rascals-david-jackson_gbia0003323b_01_2.0_CT_EQ.flac\", \"source\": \"original\", \"mtime\": \"1489019681\", \"size\": \"92570538\", \"md5\": \"e8d132374449c2365bee47c853757589\", \"crc32\": \"e4c39b1a\", \"sha1\": \"fd1bf2d5692331ef0ba7956c5db16de3a67fa058\", \"format\": \"24bit Flac\", \"length\": \"269.99\", \"height\": \"1680\", \"width\": \"1680\", \"album\": \"1. Kitchen Parade; 2. A Family Is A Blanket\", \"artist\": \"Chubby's Rascals;David;Jackson\", \"track\": \"01\", \"comment\": \"This file was digitized at George Blood, L.P. using a 2.0mm truncated conical stylus, and equalized with Turnover: 400.0, Rolloff: -12.0.\\\\\", \"autoplay\": \"false\"}, {\"name\": \"_78_1.-kitchen-parade-2.-a-family-is-a-blanket_chubbys-rascals-david-jackson_gbia0003323b_01_2.0_CT_EQ.mp3\", \"source\": \"derivative\", \"creator\": \"Chubby's Rascals;David;Jackson\", \"track\": \"01\", \"album\": \"1. Kitchen Parade; 2. A Family Is A Blanket\", \"bitrate\": \"239\", \"length\": \"04:30\", \"format\": \"VBR MP3\", \"original\": \"_78_1.-kitchen-parade-2.-a-family-is-a-blanket_chubbys-rascals-david-jackson_gbia0003323b_01_2.0_CT_EQ.flac\", \"mtime\": \"1489019881\", \"size\": \"8187392\", \"md5\": \"ac42c8c8b4580e43c8b4c7ad204c0a7f\", \"crc32\": \"d872b83a\", \"sha1\": \"8271828d3a968459d6f9199fcea106ce31ef29bb\", \"height\": \"0\", \"width\": \"0\"}, {\"name\": \"_78_1.-kitchen-parade-2.-a-family-is-a-blanket_chubbys-rascals-david-jackson_gbia0003323b_01_2.0_CT_EQ.png\", \"source\": \"derivative\", \"format\": \"PNG\", \"original\": \"_78_1.-kitchen-parade-2.-a-family-is-a-blanket_chubbys-rascals-david-jackson_gbia0003323b_01_2.0_CT_EQ.flac\", \"mtime\": \"1489020004\", \"size\": \"10645\", \"md5\": \"5bbe3d25365c777c1221bec23a1175d3\", \"crc32\": \"2f7adbca\", \"sha1\": \"f33fbeef72812283e2ae0c76ce016d21ed43c09b\"}, {\"name\": \"_78_1.-kitchen-parade-2.-a-family-is-a-blanket_chubbys-rascals-david-jackson_gbia0003323b_01_2.0_CT_EQ_spectrogram.png\", \"source\": \"derivative\", \"format\": \"Spectrogram\", \"original\": \"_78_1.-kitchen-parade-2.-a-family-is-a-blanket_chubbys-rascals-david-jackson_gbia0003323b_01_2.0_CT_EQ.flac\", \"mtime\": \"1489020039\", \"size\": \"281846\", \"md5\": \"9d72804a3108237f7c334a442bc3c0f4\", \"crc32\": \"ec9532be\", \"sha1\": \"19fb2e65bda8dc57d165d8d5ca68f25f4c129c8e\"}, {\"name\": \"_78_1.-kitchen-parade-2.-a-family-is-a-blanket_chubbys-rascals-david-jackson_gbia0003323b_01_2.0_CT_flat.afpk\", \"source\": \"derivative\", \"format\": \"Columbia Peaks\", \"original\": \"_78_1.-kitchen-parade-2.-a-family-is-a-blanket_chubbys-rascals-david-jackson_gbia0003323b_01_2.0_CT_flat.flac\", \"mtime\": \"1489020103\", \"size\": \"48320\", \"md5\": \"7f316266634935b45035dafe43a95628\", \"crc32\": \"291d6c9c\", \"sha1\": \"a0071dbea0b9c9e1a4edcaf419213d9cd9308ff8\"}, {\"name\": \"_78_1.-kitchen-parade-2.-a-family-is-a-blanket_chubbys-rascals-david-jackson_gbia0003323b_01_2.0_CT_flat.flac\", \"source\": \"original\", \"mtime\": \"1489019687\", \"size\": \"94962252\", \"md5\": \"03da39f6432f97b44227592da0455bd8\", \"crc32\": \"22a7b774\", \"sha1\": \"bf19fe85f5a49b85d3d558b8cf36c513c859f695\", \"format\": \"24bit Flac\", \"length\": \"269.99\", \"height\": \"1680\", \"width\": \"1680\", \"album\": \"1. Kitchen Parade; 2. A Family Is A Blanket\", \"artist\": \"Chubby's Rascals;David;Jackson\", \"track\": \"01\", \"comment\": \"This file was digitized at George Blood, L.P. using a 2.0mm truncated conical stylus, and equalized with Turnover: 400.0, Rolloff: -12.0.\\\\\"}, {\"name\": \"_78_1.-kitchen-parade-2.-a-family-is-a-blanket_chubbys-rascals-david-jackson_gbia0003323b_01_2.0_CT_flat.mp3\", \"source\": \"derivative\", \"creator\": \"Chubby's Rascals;David;Jackson\", \"track\": \"01\", \"album\": \"1. Kitchen Parade; 2. A Family Is A Blanket\", \"bitrate\": \"279\", \"length\": \"04:30\", \"format\": \"VBR MP3\", \"original\": \"_78_1.-kitchen-parade-2.-a-family-is-a-blanket_chubbys-rascals-david-jackson_gbia0003323b_01_2.0_CT_flat.flac\", \"mtime\": \"1489019907\", \"size\": \"9536000\", \"md5\": \"de5d8727b7a7e2bd2305b7dd5a544ef6\", \"crc32\": \"b97e8ea5\", \"sha1\": \"72d6889b765b8be0f33681ec70468d4ebe9ba760\", \"height\": \"0\", \"width\": \"0\"}, {\"name\": \"_78_1.-kitchen-parade-2.-a-family-is-a-blanket_chubbys-rascals-david-jackson_gbia0003323b_01_2.0_CT_flat.png\", \"source\": \"derivative\", \"format\": \"PNG\", \"original\": \"_78_1.-kitchen-parade-2.-a-family-is-a-blanket_chubbys-rascals-david-jackson_gbia0003323b_01_2.0_CT_flat.flac\", \"mtime\": \"1489020035\", \"size\": \"10763\", \"md5\": \"808be3338be4cde092009f691e9b246f\", \"crc32\": \"ae7992a8\", \"sha1\": \"3dba067904a17e892b5c0be96ad724e076848337\"}, {\"name\": \"_78_1.-kitchen-parade-2.-a-family-is-a-blanket_chubbys-rascals-david-jackson_gbia0003323b_01_2.0_CT_flat_spectrogram.png\", \"source\": \"derivative\", \"format\": \"Spectrogram\", \"original\": \"_78_1.-kitchen-parade-2.-a-family-is-a-blanket_chubbys-rascals-david-jackson_gbia0003323b_01_2.0_CT_flat.flac\", \"mtime\": \"1489020050\", \"size\": \"278733\", \"md5\": \"8c6d46076b787807d35d5c91bc8b10ce\", \"crc32\": \"f020aaba\", \"sha1\": \"788ccf9cc72b1ff536797f845e609189b29600d3\"}, {\"name\": \"_78_1.-kitchen-parade-2.-a-family-is-a-blanket_chubbys-rascals-david-jackson_gbia0003323b_02_2.3_CT_EQ.afpk\", \"source\": \"derivative\", \"format\": \"Columbia Peaks\", \"original\": \"_78_1.-kitchen-parade-2.-a-family-is-a-blanket_chubbys-rascals-david-jackson_gbia0003323b_02_2.3_CT_EQ.flac\", \"mtime\": \"1489020087\", \"size\": \"48456\", \"md5\": \"b729a1b452a5c01493c633d806785acf\", \"crc32\": \"f21c8546\", \"sha1\": \"3f2f6e2bd0ac0ecd895eedd86f13b98aa7b52d3e\"}, {\"name\": \"_78_1.-kitchen-parade-2.-a-family-is-a-blanket_chubbys-rascals-david-jackson_gbia0003323b_02_2.3_CT_EQ.flac\", \"source\": \"original\", \"mtime\": \"1489019694\", \"size\": \"93262022\", \"md5\": \"95f84bc60e1fc31410eeb29df1f93417\", \"crc32\": \"7ce87736\", \"sha1\": \"746f7290d76530cce53f79468eb237077b75c0b7\", \"format\": \"24bit Flac\", \"length\": \"269.99\", \"height\": \"1680\", \"width\": \"1680\", \"album\": \"1. Kitchen Parade; 2. A Family Is A Blanket\", \"artist\": \"Chubby's Rascals;David;Jackson\", \"track\": \"01\", \"comment\": \"This file was digitized at George Blood, L.P. using a 2.3mm truncated conical stylus, and equalized with Turnover: 400.0, Rolloff: -12.0.\\\\\"}, {\"name\": \"_78_1.-kitchen-parade-2.-a-family-is-a-blanket_chubbys-rascals-david-jackson_gbia0003323b_02_2.3_CT_EQ.mp3\", \"source\": \"derivative\", \"creator\": \"Chubby's Rascals;David;Jackson\", \"track\": \"01\", \"album\": \"1. Kitchen Parade; 2. A Family Is A Blanket\", \"bitrate\": \"218\", \"length\": \"04:30\", \"format\": \"VBR MP3\", \"original\": \"_78_1.-kitchen-parade-2.-a-family-is-a-blanket_chubbys-rascals-david-jackson_gbia0003323b_02_2.3_CT_EQ.flac\", \"mtime\": \"1489019931\", \"size\": \"7467520\", \"md5\": \"87d85e6791acc56f0e5c84e235665045\", \"crc32\": \"48664b7d\", \"sha1\": \"5d3defc45b8250167d976a46c9eaf25cffc9daf8\", \"height\": \"0\", \"width\": \"0\"}, {\"name\": \"_78_1.-kitchen-parade-2.-a-family-is-a-blanket_chubbys-rascals-david-jackson_gbia0003323b_02_2.3_CT_EQ.png\", \"source\": \"derivative\", \"format\": \"PNG\", \"original\": \"_78_1.-kitchen-parade-2.-a-family-is-a-blanket_chubbys-rascals-david-jackson_gbia0003323b_02_2.3_CT_EQ.flac\", \"mtime\": \"1489019988\", \"size\": \"11491\", \"md5\": \"4e2859a1d0c00873f054336d07b23fd4\", \"crc32\": \"cafe4990\", \"sha1\": \"9c2b36a0a937f9ca522f4ae37f18c7b6258bb2cf\"}, {\"name\": \"_78_1.-kitchen-parade-2.-a-family-is-a-blanket_chubbys-rascals-david-jackson_gbia0003323b_02_2.3_CT_EQ_spectrogram.png\", \"source\": \"derivative\", \"format\": \"Spectrogram\", \"original\": \"_78_1.-kitchen-parade-2.-a-family-is-a-blanket_chubbys-rascals-david-jackson_gbia0003323b_02_2.3_CT_EQ.flac\", \"mtime\": \"1489020044\", \"size\": \"276432\", \"md5\": \"6b12fbd3fde177321814a6a6f261fcbd\", \"crc32\": \"8b3bc17b\", \"sha1\": \"4865b7786754d2e4e9d6cdae1803f63b18ac7645\"}, {\"name\": \"_78_1.-kitchen-parade-2.-a-family-is-a-blanket_chubbys-rascals-david-jackson_gbia0003323b_02_2.3_CT_flat.afpk\", \"source\": \"derivative\", \"format\": \"Columbia Peaks\", \"original\": \"_78_1.-kitchen-parade-2.-a-family-is-a-blanket_chubbys-rascals-david-jackson_gbia0003323b_02_2.3_CT_flat.flac\", \"mtime\": \"1489020120\", \"size\": \"48320\", \"md5\": \"f84c8fcb2cc3e1178bf60e112993a509\", \"crc32\": \"e2b3bc8c\", \"sha1\": \"494d8afbe9f750ba18e4cac93c101fb5458290e6\"}, {\"name\": \"_78_1.-kitchen-parade-2.-a-family-is-a-blanket_chubbys-rascals-david-jackson_gbia0003323b_02_2.3_CT_flat.flac\", \"source\": \"original\", \"mtime\": \"1489019738\", \"size\": \"104838338\", \"md5\": \"d29bcc823af211ac00b230ebe583ee0e\", \"crc32\": \"84d95c08\", \"sha1\": \"6b9d8c311d82a744f1626748f019afb929b92e77\", \"format\": \"24bit Flac\", \"length\": \"269.99\", \"height\": \"1680\", \"width\": \"1680\", \"album\": \"1. Kitchen Parade; 2. A Family Is A Blanket\", \"artist\": \"Chubby's Rascals;David;Jackson\", \"track\": \"01\", \"comment\": \"This file was digitized at George Blood, L.P. using a 2.3mm truncated conical stylus, and equalized with Turnover: 400.0, Rolloff: -12.0.\\\\\"}, {\"name\": \"_78_1.-kitchen-parade-2.-a-family-is-a-blanket_chubbys-rascals-david-jackson_gbia0003323b_02_2.3_CT_flat.mp3\", \"source\": \"derivative\", \"creator\": \"Chubby's Rascals;David;Jackson\", \"track\": \"01\", \"album\": \"1. Kitchen Parade; 2. A Family Is A Blanket\", \"bitrate\": \"268\", \"length\": \"04:30\", \"format\": \"VBR MP3\", \"original\": \"_78_1.-kitchen-parade-2.-a-family-is-a-blanket_chubbys-rascals-david-jackson_gbia0003323b_02_2.3_CT_flat.flac\", \"mtime\": \"1489019957\", \"size\": \"9150976\", \"md5\": \"af773fccda399b059bc7dadcf648afe8\", \"crc32\": \"3121d60f\", \"sha1\": \"003be1aa1ee63779b115101cb7bbabfb30d285a6\", \"height\": \"0\", \"width\": \"0\"}, {\"name\": \"_78_1.-kitchen-parade-2.-a-family-is-a-blanket_chubbys-rascals-david-jackson_gbia0003323b_02_2.3_CT_flat.png\", \"source\": \"derivative\", \"format\": \"PNG\", \"original\": \"_78_1.-kitchen-parade-2.-a-family-is-a-blanket_chubbys-rascals-david-jackson_gbia0003323b_02_2.3_CT_flat.flac\", \"mtime\": \"1489019996\", \"size\": \"11551\", \"md5\": \"f0fe6abf3ec684cd49af34f38ac3494a\", \"crc32\": \"521843c2\", \"sha1\": \"df4e0d0e00884e0adf4e1f70a575012df8c39485\"}, {\"name\": \"_78_1.-kitchen-parade-2.-a-family-is-a-blanket_chubbys-rascals-david-jackson_gbia0003323b_02_2.3_CT_flat_spectrogram.png\", \"source\": \"derivative\", \"format\": \"Spectrogram\", \"original\": \"_78_1.-kitchen-parade-2.-a-family-is-a-blanket_chubbys-rascals-david-jackson_gbia0003323b_02_2.3_CT_flat.flac\", \"mtime\": \"1489020054\", \"size\": \"273877\", \"md5\": \"6c513a279fbc2f3c3c74e0f2d67a68de\", \"crc32\": \"141c4e21\", \"sha1\": \"6ccd74ab86c1d2392661bf66aaaae69163fe6615\"}, {\"name\": \"_78_1.-kitchen-parade-2.-a-family-is-a-blanket_chubbys-rascals-david-jackson_gbia0003323b_03_2.8_CT_EQ.afpk\", \"source\": \"derivative\", \"format\": \"Columbia Peaks\", \"original\": \"_78_1.-kitchen-parade-2.-a-family-is-a-blanket_chubbys-rascals-david-jackson_gbia0003323b_03_2.8_CT_EQ.flac\", \"mtime\": \"1489020081\", \"size\": \"48976\", \"md5\": \"d6d876d0f3ff382d62ea02903c139e28\", \"crc32\": \"3a32f52e\", \"sha1\": \"3426082cf7737a84a9916d2ef9a47fd750f032c1\"}, {\"name\": \"_78_1.-kitchen-parade-2.-a-family-is-a-blanket_chubbys-rascals-david-jackson_gbia0003323b_03_2.8_CT_EQ.flac\", \"source\": \"original\", \"mtime\": \"1489019746\", \"size\": \"93739665\", \"md5\": \"5725fff8c876cdbea4fb095171883d94\", \"crc32\": \"8b12b6b0\", \"sha1\": \"fd524c456f755b8b1c12e269e72acea3a2c8bab4\", \"format\": \"24bit Flac\", \"length\": \"269.99\", \"height\": \"1680\", \"width\": \"1680\", \"album\": \"1. Kitchen Parade; 2. A Family Is A Blanket\", \"artist\": \"Chubby's Rascals;David;Jackson\", \"track\": \"01\", \"comment\": \"This file was digitized at George Blood, L.P. using a 2.8mm truncated conical stylus, and equalized with Turnover: 400.0, Rolloff: -12.0.\\\\\"}, {\"name\": \"_78_1.-kitchen-parade-2.-a-family-is-a-blanket_chubbys-rascals-david-jackson_gbia0003323b_03_2.8_CT_EQ.mp3\", \"source\": \"derivative\", \"creator\": \"Chubby's Rascals;David;Jackson\", \"track\": \"01\", \"album\": \"1. Kitchen Parade; 2. A Family Is A Blanket\", \"bitrate\": \"224\", \"length\": \"04:30\", \"format\": \"VBR MP3\", \"original\": \"_78_1.-kitchen-parade-2.-a-family-is-a-blanket_chubbys-rascals-david-jackson_gbia0003323b_03_2.8_CT_EQ.flac\", \"mtime\": \"1489019868\", \"size\": \"7675904\", \"md5\": \"ef9404cf7e3848fd5e4f4e0b53873b8c\", \"crc32\": \"a683b19f\", \"sha1\": \"0ad693054827dc42f171b1320e332cfa6e6e9fe8\", \"height\": \"0\", \"width\": \"0\"}, {\"name\": \"_78_1.-kitchen-parade-2.-a-family-is-a-blanket_chubbys-rascals-david-jackson_gbia0003323b_03_2.8_CT_EQ.png\", \"source\": \"derivative\", \"format\": \"PNG\", \"original\": \"_78_1.-kitchen-parade-2.-a-family-is-a-blanket_chubbys-rascals-david-jackson_gbia0003323b_03_2.8_CT_EQ.flac\", \"mtime\": \"1489020027\", \"size\": \"11326\", \"md5\": \"6fd0ac07fca561b81933b20b8b5447c6\", \"crc32\": \"851f8f84\", \"sha1\": \"b88b1507684848c3dd218d661e7091d7f8a2bf70\"}, {\"name\": \"_78_1.-kitchen-parade-2.-a-family-is-a-blanket_chubbys-rascals-david-jackson_gbia0003323b_03_2.8_CT_EQ_spectrogram.png\", \"source\": \"derivative\", \"format\": \"Spectrogram\", \"original\": \"_78_1.-kitchen-parade-2.-a-family-is-a-blanket_chubbys-rascals-david-jackson_gbia0003323b_03_2.8_CT_EQ.flac\", \"mtime\": \"1489020059\", \"size\": \"288518\", \"md5\": \"b4ac59b27adf2626f3b39700b964374e\", \"crc32\": \"8e5c628c\", \"sha1\": \"2cb2da339dfdf979c8ba66f877f48c881f045d87\"}, {\"name\": \"_78_1.-kitchen-parade-2.-a-family-is-a-blanket_chubbys-rascals-david-jackson_gbia0003323b_03_2.8_CT_flat.afpk\", \"source\": \"derivative\", \"format\": \"Columbia Peaks\", \"original\": \"_78_1.-kitchen-parade-2.-a-family-is-a-blanket_chubbys-rascals-david-jackson_gbia0003323b_03_2.8_CT_flat.flac\", \"mtime\": \"1489020115\", \"size\": \"48864\", \"md5\": \"05b4dcdd440d32b69c0700a88ef38215\", \"crc32\": \"92e31cce\", \"sha1\": \"607554e01b72b122e18abafbe265e890c924cd00\"}, {\"name\": \"_78_1.-kitchen-parade-2.-a-family-is-a-blanket_chubbys-rascals-david-jackson_gbia0003323b_03_2.8_CT_flat.flac\", \"source\": \"original\", \"mtime\": \"1489019753\", \"size\": \"105640302\", \"md5\": \"583e026f7143f9d8ff1bd9745977dfe3\", \"crc32\": \"4a227fec\", \"sha1\": \"77953d537ebc31d56d6080abef1cfd2f22647ddc\", \"format\": \"24bit Flac\", \"length\": \"269.99\", \"height\": \"1680\", \"width\": \"1680\", \"album\": \"1. Kitchen Parade; 2. A Family Is A Blanket\", \"artist\": \"Chubby's Rascals;David;Jackson\", \"track\": \"01\", \"comment\": \"This file was digitized at George Blood, L.P. using a 2.8mm truncated conical stylus, and equalized with Turnover: 400.0, Rolloff: -12.0.\\\\\"}, {\"name\": \"_78_1.-kitchen-parade-2.-a-family-is-a-blanket_chubbys-rascals-david-jackson_gbia0003323b_03_2.8_CT_flat.mp3\", \"source\": \"derivative\", \"creator\": \"Chubby's Rascals;David;Jackson\", \"track\": \"01\", \"album\": \"1. Kitchen Parade; 2. A Family Is A Blanket\", \"bitrate\": \"256\", \"length\": \"04:30\", \"format\": \"VBR MP3\", \"original\": \"_78_1.-kitchen-parade-2.-a-family-is-a-blanket_chubbys-rascals-david-jackson_gbia0003323b_03_2.8_CT_flat.flac\", \"mtime\": \"1489019945\", \"size\": \"8755712\", \"md5\": \"c19baed6fbf1ed5d99198af1afb7fe44\", \"crc32\": \"d6a457f7\", \"sha1\": \"36dd3b1808377a5c936bcf24ffdf14502043b2df\", \"height\": \"0\", \"width\": \"0\"}, {\"name\": \"_78_1.-kitchen-parade-2.-a-family-is-a-blanket_chubbys-rascals-david-jackson_gbia0003323b_03_2.8_CT_flat.png\", \"source\": \"derivative\", \"format\": \"PNG\", \"original\": \"_78_1.-kitchen-parade-2.-a-family-is-a-blanket_chubbys-rascals-david-jackson_gbia0003323b_03_2.8_CT_flat.flac\", \"mtime\": \"1489019971\", \"size\": \"11610\", \"md5\": \"d117f76e68927d2151e5559a632a7480\", \"crc32\": \"0ba3a2b6\", \"sha1\": \"1006518f34e7fd33ba344add791b2bd01669034a\"}, {\"name\": \"_78_1.-kitchen-parade-2.-a-family-is-a-blanket_chubbys-rascals-david-jackson_gbia0003323b_03_2.8_CT_flat_spectrogram.png\", \"source\": \"derivative\", \"format\": \"Spectrogram\", \"original\": \"_78_1.-kitchen-parade-2.-a-family-is-a-blanket_chubbys-rascals-david-jackson_gbia0003323b_03_2.8_CT_flat.flac\", \"mtime\": \"1489020068\", \"size\": \"285881\", \"md5\": \"e8f7d3c228cb5a015d7eda65a2db1024\", \"crc32\": \"d8917101\", \"sha1\": \"5406cfc1e9d356bafdfc3fa5b63fa68fbc48bc41\"}, {\"name\": \"_78_1.-kitchen-parade-2.-a-family-is-a-blanket_chubbys-rascals-david-jackson_gbia0003323b_04_3.3_CT_EQ.afpk\", \"source\": \"derivative\", \"format\": \"Columbia Peaks\", \"original\": \"_78_1.-kitchen-parade-2.-a-family-is-a-blanket_chubbys-rascals-david-jackson_gbia0003323b_04_3.3_CT_EQ.flac\", \"mtime\": \"1489020098\", \"size\": \"49400\", \"md5\": \"71ddda2e6b687414c0c2b6900c039e21\", \"crc32\": \"bea8cad5\", \"sha1\": \"734d4430f06b8aa00e01f8eace662a37de577c2a\"}, {\"name\": \"_78_1.-kitchen-parade-2.-a-family-is-a-blanket_chubbys-rascals-david-jackson_gbia0003323b_04_3.3_CT_EQ.flac\", \"source\": \"original\", \"mtime\": \"1489019758\", \"size\": \"94894371\", \"md5\": \"6d1eec3cbd25057d534bfdf8a1d2310b\", \"crc32\": \"9a2d5b31\", \"sha1\": \"7cbd222f0145281aef53a69c30b6119e6faca2d2\", \"format\": \"24bit Flac\", \"length\": \"269.99\", \"height\": \"1680\", \"width\": \"1680\", \"album\": \"1. Kitchen Parade; 2. A Family Is A Blanket\", \"artist\": \"Chubby's Rascals;David;Jackson\", \"track\": \"01\", \"comment\": \"This file was digitized at George Blood, L.P. using a 3.3mm truncated conical stylus, and equalized with Turnover: 400.0, Rolloff: -12.0.\\\\\"}, {\"name\": \"_78_1.-kitchen-parade-2.-a-family-is-a-blanket_chubbys-rascals-david-jackson_gbia0003323b_04_3.3_CT_EQ.mp3\", \"source\": \"derivative\", \"creator\": \"Chubby's Rascals;David;Jackson\", \"track\": \"01\", \"album\": \"1. Kitchen Parade; 2. A Family Is A Blanket\", \"bitrate\": \"224\", \"length\": \"04:30\", \"format\": \"VBR MP3\", \"original\": \"_78_1.-kitchen-parade-2.-a-family-is-a-blanket_chubbys-rascals-david-jackson_gbia0003323b_04_3.3_CT_EQ.flac\", \"mtime\": \"1489019919\", \"size\": \"7654912\", \"md5\": \"ecf6d9f0f353d1e9ca6e86ca54ecc131\", \"crc32\": \"5fac37c2\", \"sha1\": \"d90f02651c0099f2bc3863ba78f3281088500324\", \"height\": \"0\", \"width\": \"0\"}, {\"name\": \"_78_1.-kitchen-parade-2.-a-family-is-a-blanket_chubbys-rascals-david-jackson_gbia0003323b_04_3.3_CT_EQ.png\", \"source\": \"derivative\", \"format\": \"PNG\", \"original\": \"_78_1.-kitchen-parade-2.-a-family-is-a-blanket_chubbys-rascals-david-jackson_gbia0003323b_04_3.3_CT_EQ.flac\", \"mtime\": \"1489020020\", \"size\": \"11611\", \"md5\": \"a27614383e06f264cf6022fe40cab71f\", \"crc32\": \"0e5e60f4\", \"sha1\": \"708a52886425c23aa408f2ca8f18b84aa7f0e4e0\"}, {\"name\": \"_78_1.-kitchen-parade-2.-a-family-is-a-blanket_chubbys-rascals-david-jackson_gbia0003323b_04_3.3_CT_EQ_spectrogram.png\", \"source\": \"derivative\", \"format\": \"Spectrogram\", \"original\": \"_78_1.-kitchen-parade-2.-a-family-is-a-blanket_chubbys-rascals-david-jackson_gbia0003323b_04_3.3_CT_EQ.flac\", \"mtime\": \"1489020072\", \"size\": \"275689\", \"md5\": \"a2a0f9dbb16fb476252a5eb495bd6f51\", \"crc32\": \"774fcb08\", \"sha1\": \"31ce9c7fc12aa29f06aa961b5599d367fe2b4094\"}, {\"name\": \"_78_1.-kitchen-parade-2.-a-family-is-a-blanket_chubbys-rascals-david-jackson_gbia0003323b_04_3.3_CT_flat.afpk\", \"source\": \"derivative\", \"format\": \"Columbia Peaks\", \"original\": \"_78_1.-kitchen-parade-2.-a-family-is-a-blanket_chubbys-rascals-david-jackson_gbia0003323b_04_3.3_CT_flat.flac\", \"mtime\": \"1489020092\", \"size\": \"49032\", \"md5\": \"d4816d5548639cec028d0094a66ab1b8\", \"crc32\": \"c2754e0b\", \"sha1\": \"05bb5fb1994aff4d97b07f1221d62f1a9f788836\"}, {\"name\": \"_78_1.-kitchen-parade-2.-a-family-is-a-blanket_chubbys-rascals-david-jackson_gbia0003323b_04_3.3_CT_flat.flac\", \"source\": \"original\", \"mtime\": \"1489019768\", \"size\": \"106255804\", \"md5\": \"982e7f66ac9f67b5cc518df398214c24\", \"crc32\": \"f7a3e813\", \"sha1\": \"57a793b46e6d25c817c3abfc8296f16ee9714254\", \"format\": \"24bit Flac\", \"length\": \"269.99\", \"height\": \"1680\", \"width\": \"1680\", \"album\": \"1. Kitchen Parade; 2. A Family Is A Blanket\", \"artist\": \"Chubby's Rascals;David;Jackson\", \"track\": \"01\", \"comment\": \"This file was digitized at George Blood, L.P. using a 3.3mm truncated conical stylus, and equalized with Turnover: 400.0, Rolloff: -12.0.\\\\\"}, {\"name\": \"_78_1.-kitchen-parade-2.-a-family-is-a-blanket_chubbys-rascals-david-jackson_gbia0003323b_04_3.3_CT_flat.mp3\", \"source\": \"derivative\", \"creator\": \"Chubby's Rascals;David;Jackson\", \"track\": \"01\", \"album\": \"1. Kitchen Parade; 2. A Family Is A Blanket\", \"bitrate\": \"262\", \"length\": \"04:30\", \"format\": \"VBR MP3\", \"original\": \"_78_1.-kitchen-parade-2.-a-family-is-a-blanket_chubbys-rascals-david-jackson_gbia0003323b_04_3.3_CT_flat.flac\", \"mtime\": \"1489019894\", \"size\": \"8934912\", \"md5\": \"ee3dfce3f247760e3bf4444a9763bcdd\", \"crc32\": \"75ab7ebe\", \"sha1\": \"5902f2ecae8f892b2e5ce5abcc426c23c5ab524c\", \"height\": \"0\", \"width\": \"0\"}, {\"name\": \"_78_1.-kitchen-parade-2.-a-family-is-a-blanket_chubbys-rascals-david-jackson_gbia0003323b_04_3.3_CT_flat.png\", \"source\": \"derivative\", \"format\": \"PNG\", \"original\": \"_78_1.-kitchen-parade-2.-a-family-is-a-blanket_chubbys-rascals-david-jackson_gbia0003323b_04_3.3_CT_flat.flac\", \"mtime\": \"1489019979\", \"size\": \"11869\", \"md5\": \"6e3b0b9902efc4161a01cba3d0c062aa\", \"crc32\": \"0764b641\", \"sha1\": \"8d5afca9c661b05c30c9fd017492b09ba600b38c\"}, {\"name\": \"_78_1.-kitchen-parade-2.-a-family-is-a-blanket_chubbys-rascals-david-jackson_gbia0003323b_04_3.3_CT_flat_spectrogram.png\", \"source\": \"derivative\", \"format\": \"Spectrogram\", \"original\": \"_78_1.-kitchen-parade-2.-a-family-is-a-blanket_chubbys-rascals-david-jackson_gbia0003323b_04_3.3_CT_flat.flac\", \"mtime\": \"1489020064\", \"size\": \"273965\", \"md5\": \"30fff00ee2d8c93df0c0e193ce485bd8\", \"crc32\": \"5877bf8a\", \"sha1\": \"2522c0f0f098210c45d403255368ccc83871c635\"}, {\"name\": \"__ia_thumb.jpg\", \"source\": \"original\", \"mtime\": \"1538625522\", \"size\": \"9718\", \"md5\": \"92bc0088baa4504230aef766df75feeb\", \"crc32\": \"923c0f91\", \"sha1\": \"d502f7c16c142a501d9d3f737b5709c9fe673d17\", \"format\": \"Item Tile\", \"rotation\": \"0\"}], \"files_count\": 55, \"item_last_updated\": 1558130597, \"item_size\": 984680147, \"metadata\": {\"identifier\": \"78_1.-kitchen-parade-2.-a-family-is-a-blanket_chubbys-rascals-david-jackson_gbia0003323b\", \"collection\": [\"78rpm\", \"78rpm_thorpe\", \"georgeblood\", \"audio_music\"], \"collection-catalog-number\": \"GBIA0003323B\", \"contributor\": \"Internet Archive\", \"coverage\": \"USA\", \"creator\": [\"Chubby's Rascals\", \"David\", \"Jackson\"], \"description\": \"<p><b>Performer:</b> Chubby's Rascals<br /><b>Writer:</b> Jackson</p><p>Digitized from a shellac record, at 78 revolutions per minute. Four stylii were used to transfer this record.They are 2.0 mil truncated conical, 2.3 mil truncated conical, 2.8 mil truncated conical, 3.3 mil truncated conical.  These were recorded flat and then also equalized with Turnover: 400.0, Rolloff: -12.0.</p><p>The preferred version suggested by an audio engineer at George Blood, L.P. is the equalized version recorded with the 2.0 mil truncated conical stylus, and has been copied to have the more friendly filename.</p><p><b>Matrix number:</b> 454-460<br /><b>Catalog number:</b> 9755</p><p>Other IDs from the record include: AMP 78-454460</p>\", \"external-identifier\": \"urn:matrix_no:454-460\", \"genre\": \"Novelty\", \"language\": \"English\", \"mediatype\": \"audio\", \"publisher\": \"ABC-Paramount\", \"runtime\": \"00:04:29\", \"scanner\": \"Internet Archive Python library 1.5.0\", \"scanningcenter\": \"George Blood, L.P.\", \"size\": \"10.0\", \"source\": \"78\", \"sponsor\": \"Kahle/Austin Foundation\", \"subject\": [\"78rpm\", \"Novelty\"], \"title\": \"1. Kitchen Parade; 2. A Family Is A Blanket\", \"publicdate\": \"2017-03-09 00:34:05\", \"uploader\": \"jake@archive.org\", \"addeddate\": \"2017-03-09 00:34:05\", \"shiptracking\": \"15861_15947\", \"boxid\": \"IA1437510\", \"notes\": \"<p>The recording on the other side of this disc: <a href=\\\"/details/78_1.-the-little-rascal-song-2.-the-hippo-and-the-walrus_chubbys-rascals-jackson-dav_gbia0003323a\\\" rel=\\\"nofollow\\\">1. The Little Rascal Song; 2. The Hippo And The Walrus</a></p>\", \"date\": \"1956\", \"backup_location\": \"ia906309_16\", \"publisher-catalog-number\": \"9755\"}, \"reviews\": [{\"reviewbody\": \"Matched on Catalog number, Publisher, and person confirmed.\\n1956 (interpolated) is from https://archive.org/stream/american45fortyf00dani#page/n19/mode/1up\", \"reviewtitle\": \"78rpm record from 1956 (interpolated)\", \"reviewer\": \"brewbot\", \"reviewer_itemname\": \"@brewbot\", \"reviewdate\": \"2018-05-21 11:59:18\", \"createdate\": \"2018-05-21 11:59:18\", \"stars\": \"0\"}], \"roles\": {\"performer\": \"Chubby's Rascals\", \"writer\": \"Jackson\"}, \"server\": \"ia800603.us.archive.org\", \"uniq\": 2001869693, \"workable_servers\": [\"ia800603.us.archive.org\", \"ia600603.us.archive.org\"]}\n",
            "\n",
            "Pretty print part of the metadata for that identifier as json:\n",
            "\u001b[1;39m{\n",
            "  \u001b[0m\u001b[34;1m\"identifier\"\u001b[0m\u001b[1;39m: \u001b[0m\u001b[0;32m\"78_1.-kitchen-parade-2.-a-family-is-a-blanket_chubbys-rascals-david-jackson_gbia0003323b\"\u001b[0m\u001b[1;39m,\n",
            "  \u001b[0m\u001b[34;1m\"collection\"\u001b[0m\u001b[1;39m: \u001b[0m\u001b[1;39m[\n",
            "    \u001b[0;32m\"78rpm\"\u001b[0m\u001b[1;39m,\n",
            "    \u001b[0;32m\"78rpm_thorpe\"\u001b[0m\u001b[1;39m,\n",
            "    \u001b[0;32m\"georgeblood\"\u001b[0m\u001b[1;39m,\n",
            "    \u001b[0;32m\"audio_music\"\u001b[0m\u001b[1;39m\n",
            "  \u001b[1;39m]\u001b[0m\u001b[1;39m,\n",
            "  \u001b[0m\u001b[34;1m\"collection-catalog-number\"\u001b[0m\u001b[1;39m: \u001b[0m\u001b[0;32m\"GBIA0003323B\"\u001b[0m\u001b[1;39m,\n",
            "  \u001b[0m\u001b[34;1m\"contributor\"\u001b[0m\u001b[1;39m: \u001b[0m\u001b[0;32m\"Internet Archive\"\u001b[0m\u001b[1;39m,\n",
            "  \u001b[0m\u001b[34;1m\"coverage\"\u001b[0m\u001b[1;39m: \u001b[0m\u001b[0;32m\"USA\"\u001b[0m\u001b[1;39m,\n",
            "  \u001b[0m\u001b[34;1m\"creator\"\u001b[0m\u001b[1;39m: \u001b[0m\u001b[1;39m[\n",
            "    \u001b[0;32m\"Chubby's Rascals\"\u001b[0m\u001b[1;39m,\n",
            "    \u001b[0;32m\"David\"\u001b[0m\u001b[1;39m,\n",
            "    \u001b[0;32m\"Jackson\"\u001b[0m\u001b[1;39m\n",
            "  \u001b[1;39m]\u001b[0m\u001b[1;39m,\n",
            "  \u001b[0m\u001b[34;1m\"description\"\u001b[0m\u001b[1;39m: \u001b[0m\u001b[0;32m\"<p><b>Performer:</b> Chubby's Rascals<br /><b>Writer:</b> Jackson</p><p>Digitized from a shellac record, at 78 revolutions per minute. Four stylii were used to transfer this record.They are 2.0 mil truncated conical, 2.3 mil truncated conical, 2.8 mil truncated conical, 3.3 mil truncated conical.  These were recorded flat and then also equalized with Turnover: 400.0, Rolloff: -12.0.</p><p>The preferred version suggested by an audio engineer at George Blood, L.P. is the equalized version recorded with the 2.0 mil truncated conical stylus, and has been copied to have the more friendly filename.</p><p><b>Matrix number:</b> 454-460<br /><b>Catalog number:</b> 9755</p><p>Other IDs from the record include: AMP 78-454460</p>\"\u001b[0m\u001b[1;39m,\n",
            "  \u001b[0m\u001b[34;1m\"external-identifier\"\u001b[0m\u001b[1;39m: \u001b[0m\u001b[0;32m\"urn:matrix_no:454-460\"\u001b[0m\u001b[1;39m,\n",
            "  \u001b[0m\u001b[34;1m\"genre\"\u001b[0m\u001b[1;39m: \u001b[0m\u001b[0;32m\"Novelty\"\u001b[0m\u001b[1;39m,\n",
            "  \u001b[0m\u001b[34;1m\"language\"\u001b[0m\u001b[1;39m: \u001b[0m\u001b[0;32m\"English\"\u001b[0m\u001b[1;39m,\n",
            "  \u001b[0m\u001b[34;1m\"mediatype\"\u001b[0m\u001b[1;39m: \u001b[0m\u001b[0;32m\"audio\"\u001b[0m\u001b[1;39m,\n",
            "  \u001b[0m\u001b[34;1m\"publisher\"\u001b[0m\u001b[1;39m: \u001b[0m\u001b[0;32m\"ABC-Paramount\"\u001b[0m\u001b[1;39m,\n",
            "  \u001b[0m\u001b[34;1m\"runtime\"\u001b[0m\u001b[1;39m: \u001b[0m\u001b[0;32m\"00:04:29\"\u001b[0m\u001b[1;39m,\n",
            "  \u001b[0m\u001b[34;1m\"scanner\"\u001b[0m\u001b[1;39m: \u001b[0m\u001b[0;32m\"Internet Archive Python library 1.5.0\"\u001b[0m\u001b[1;39m,\n",
            "  \u001b[0m\u001b[34;1m\"scanningcenter\"\u001b[0m\u001b[1;39m: \u001b[0m\u001b[0;32m\"George Blood, L.P.\"\u001b[0m\u001b[1;39m,\n",
            "  \u001b[0m\u001b[34;1m\"size\"\u001b[0m\u001b[1;39m: \u001b[0m\u001b[0;32m\"10.0\"\u001b[0m\u001b[1;39m,\n",
            "  \u001b[0m\u001b[34;1m\"source\"\u001b[0m\u001b[1;39m: \u001b[0m\u001b[0;32m\"78\"\u001b[0m\u001b[1;39m,\n",
            "  \u001b[0m\u001b[34;1m\"sponsor\"\u001b[0m\u001b[1;39m: \u001b[0m\u001b[0;32m\"Kahle/Austin Foundation\"\u001b[0m\u001b[1;39m,\n",
            "  \u001b[0m\u001b[34;1m\"subject\"\u001b[0m\u001b[1;39m: \u001b[0m\u001b[1;39m[\n",
            "    \u001b[0;32m\"78rpm\"\u001b[0m\u001b[1;39m,\n",
            "    \u001b[0;32m\"Novelty\"\u001b[0m\u001b[1;39m\n",
            "  \u001b[1;39m]\u001b[0m\u001b[1;39m,\n",
            "  \u001b[0m\u001b[34;1m\"title\"\u001b[0m\u001b[1;39m: \u001b[0m\u001b[0;32m\"1. Kitchen Parade; 2. A Family Is A Blanket\"\u001b[0m\u001b[1;39m,\n",
            "  \u001b[0m\u001b[34;1m\"publicdate\"\u001b[0m\u001b[1;39m: \u001b[0m\u001b[0;32m\"2017-03-09 00:34:05\"\u001b[0m\u001b[1;39m,\n",
            "  \u001b[0m\u001b[34;1m\"uploader\"\u001b[0m\u001b[1;39m: \u001b[0m\u001b[0;32m\"jake@archive.org\"\u001b[0m\u001b[1;39m,\n",
            "  \u001b[0m\u001b[34;1m\"addeddate\"\u001b[0m\u001b[1;39m: \u001b[0m\u001b[0;32m\"2017-03-09 00:34:05\"\u001b[0m\u001b[1;39m,\n",
            "  \u001b[0m\u001b[34;1m\"shiptracking\"\u001b[0m\u001b[1;39m: \u001b[0m\u001b[0;32m\"15861_15947\"\u001b[0m\u001b[1;39m,\n",
            "  \u001b[0m\u001b[34;1m\"boxid\"\u001b[0m\u001b[1;39m: \u001b[0m\u001b[0;32m\"IA1437510\"\u001b[0m\u001b[1;39m,\n",
            "  \u001b[0m\u001b[34;1m\"notes\"\u001b[0m\u001b[1;39m: \u001b[0m\u001b[0;32m\"<p>The recording on the other side of this disc: <a href=\\\"/details/78_1.-the-little-rascal-song-2.-the-hippo-and-the-walrus_chubbys-rascals-jackson-dav_gbia0003323a\\\" rel=\\\"nofollow\\\">1. The Little Rascal Song; 2. The Hippo And The Walrus</a></p>\"\u001b[0m\u001b[1;39m,\n",
            "  \u001b[0m\u001b[34;1m\"date\"\u001b[0m\u001b[1;39m: \u001b[0m\u001b[0;32m\"1956\"\u001b[0m\u001b[1;39m,\n",
            "  \u001b[0m\u001b[34;1m\"backup_location\"\u001b[0m\u001b[1;39m: \u001b[0m\u001b[0;32m\"ia906309_16\"\u001b[0m\u001b[1;39m,\n",
            "  \u001b[0m\u001b[34;1m\"publisher-catalog-number\"\u001b[0m\u001b[1;39m: \u001b[0m\u001b[0;32m\"9755\"\u001b[0m\u001b[1;39m\n",
            "\u001b[1;39m}\u001b[0m\n"
          ],
          "name": "stdout"
        }
      ]
    },
    {
      "cell_type": "code",
      "metadata": {
        "id": "P-kufILRXUPO",
        "colab_type": "code",
        "colab": {}
      },
      "source": [
        ""
      ],
      "execution_count": null,
      "outputs": []
    },
    {
      "cell_type": "markdown",
      "metadata": {
        "id": "jWxGKa6y9zTo",
        "colab_type": "text"
      },
      "source": [
        "Ok, got it.  We want the publisher-catalog-number field.   So let's say we want to print, in tab delimited, the publisher, catalog number, title, and identifier.   This will print 1 at first to test our command, and then 100.\n",
        "\n"
      ]
    },
    {
      "cell_type": "code",
      "metadata": {
        "id": "B9QsR-0V-CCN",
        "colab_type": "code",
        "colab": {
          "base_uri": "https://localhost:8080/",
          "height": 54
        },
        "outputId": "67bcce1f-1b4b-4175-cbcb-4b7382f0d21b"
      },
      "source": [
        "!ia metadata 78_1.-kitchen-parade-2.-a-family-is-a-blanket_chubbys-rascals-david-jackson_gbia0003323b | jq -r '[.metadata.publisher, .metadata.\"publisher-catalog-number\", .metadata.title, .metadata.identifier]| @tsv'"
      ],
      "execution_count": null,
      "outputs": [
        {
          "output_type": "stream",
          "text": [
            "ABC-Paramount\t9755\t1. Kitchen Parade; 2. A Family Is A Blanket\t78_1.-kitchen-parade-2.-a-family-is-a-blanket_chubbys-rascals-david-jackson_gbia0003323b\n"
          ],
          "name": "stdout"
        }
      ]
    },
    {
      "cell_type": "code",
      "metadata": {
        "id": "witG45Xq_mGt",
        "colab_type": "code",
        "colab": {
          "base_uri": "https://localhost:8080/",
          "height": 1000
        },
        "outputId": "e2e15312-388e-4cbd-93c6-893f96bf64c9"
      },
      "source": [
        "!ia search \"collection:georgeblood AND publisher:paramount\" --itemlist | head -100 | parallel -j10 --will-cite 'ia metadata {}' | jq -r '[.metadata.publisher, .metadata.\"publisher-catalog-number\", .metadata.title,.metadata.identifier]| @tsv'"
      ],
      "execution_count": null,
      "outputs": [
        {
          "output_type": "stream",
          "text": [
            "ABC-Paramount\t9755\t1. Kitchen Parade; 2. A Family Is A Blanket\t78_1.-kitchen-parade-2.-a-family-is-a-blanket_chubbys-rascals-david-jackson_gbia0003323b\n",
            "ABC-Paramount\t78-9874\tA Very Special Love\t78_a-very-special-love_johnny-nash-don-costa-robert-allen_gbia0067143a\n",
            "ABC-Paramount\t9755\t1. The Little Rascal Song; 2. The Hippo And The Walrus\t78_1.-the-little-rascal-song-2.-the-hippo-and-the-walrus_chubbys-rascals-jackson-dav_gbia0003323a\n",
            "ABC-Paramount\t9743\tA Teenager Sings the Blues\t78_a-teenager-sings-the-blues_johnny-nash-don-costa-his-orchestra-and-chorus-reid-marc_gbia0073275b\n",
            "Paramount\t30081-A\tA Little Birch Canoe and You\t78_a-little-birch-canoe-and-you_sterling-trio-callahan-roberts_gbia0195527a\n",
            "Paramount\t14004B\tAfrican Rag\t78_african-rag_unknown-pianist_gbia0001305b\n",
            "ABC-Paramount\t9765\tA Rose and a Baby Ruth\t78_a-rose-and-a-baby-ruth_george-hamilton-iv-johnny-dee_gbia0059301a\n",
            "Paramount\t14004B\tAfrican Rag\t78_african-rag_unknown-pianist_gbia0000937b\n",
            "ABC-Paramount\t9765\tA Rose and a Baby Ruth\t78_a-rose-and-a-baby-ruth_george-hamilton-iv-johnny-dee_gbia0015176a\n",
            "ABC-Paramount\t78-9765\tA Rose and a Baby Ruth\t78_a-rose-and-a-baby-ruth_george-hamilton-iv-johnny-dee_gbia0023851a\n",
            "Paramount\t2042-B\tAllah's Holiday\t78_allahs-holiday_paramount-dance-orchestra-katinka_gbia0177748b\n",
            "ABC-Paramount\t78-9807\tAin't That Love\t78_aint-that-love_micki-marlo-don-costas-orchestra-and-chorus-charles_gbia0005827a\n",
            "Paramount\t33047-A\tAngels Dream Waltz\t78_angels-dream-waltz_paramount-orchestra-herman_gbia0042319a\n",
            "Paramount\t50025-B\tAloha Oe (Farewell to Thee)\t78_aloha-oe-farewell-to-thee_pietro-capodiferro_gbia0084632b\n",
            "Paramount\t30036-A\tAthene Waltz\t78_athene-waltz_paramount-dance-orchestra-don-richardson_gbia0042531a\n",
            "Paramount\t30101-A\tBeautiful Ohio\t78_beautiful-ohio_j.-c.-becks-orchestra-mary-earl_gbia0009475a\n",
            "ABC-Paramount\t78-9833\tBeach Party\t78_beach-party_russ-carlyle-carlyle-washabaugh-caranda_gbia0073538b\n",
            "ABC-Paramount\t9770\tAround The World\t78_around-the-world_young-adamson-don-costa-and-his-orchestra-and-chorus_gbia0000525a\n",
            "Paramount\t14301A\tBlack And Evil Blues\t78_black-and-evil-blues_alice-moore-with-ike-rodgers-henry-brown_gbia0001318a\n",
            "ABC-Paramount\t78-9837\tBlack Slacks\t78_black-slacks_joe-bennett-and-the-sparkletones-bennett-denton_gbia0073539a\n",
            "Paramount\t12442-A\tBlake's Worried Blues\t78_blakes-worried-blues_blind-blake_gbia0001322a\n",
            "Paramount\t14026 b\tBlue Slug II\t78_blue-slug-ii_kansas-city-franks-footwarmers_gbia0001311b\n",
            "Paramount\t14031B\tBroadway Street Woman Blues\t78_broadway-street-woman-blues_alice-moore-with-ike-rodgers-henry-brown_gbia0001318b\n",
            "Paramount\t20157-A\tCall Me Back, Pal O'Mine\t78_call-me-back-pal-omine_arthur-fields-perricone-dixon_gbia0094499a\n",
            "Paramount\t14026 A\tBlue Slug I\t78_blue-slug-i_kansas-city-franks-footwarmers_gbia0001311a\n",
            "ABC-Paramount\t78-9837\tBoppin' Rock Boogie\t78_boppin-rock-boogie_joe-bennett-and-the-sparkletones-bennett-arthur_gbia0073539b\n",
            "ABC-Paramount\t9724\tBroken Heart\t78_broken-heart_joan-shaw-sid-feller-shaw-small_gbia0073277a\n",
            "ABC-Paramount\t9658\tChain Gang\t78_chain-gang_bobby-scott-quasha-yakus-don-costa_gbia0009845a\n",
            "Paramount\t14005A\tChimes Blues\t78_chimes-blues_fletcher-h.-henderson_gbia0001306a\n",
            "ABC-Paramount\t9650\tChain Gang\t78_chain-gang_bobby-scott-don-costa-quasha-yakus_gbia0073285a\n",
            "Paramount\t14022 B\tChock House Blues\t78_chock-house-blues_blind-lemon-jefferson_gbia0001313b\n",
            "ABC-Paramount\t9659\tCome to Me\t78_come-to-me_the-rover-boys-don-costa-charlap-white_gbia0073284a\n",
            "ABC-Paramount\t78-9774\tCongo Mambo\t78_congo-mambo_muvva-guitar-hubbard-and-the-stompers-gable-west_gbia0073527a\n",
            "Paramount\t20250-A\tCut Yourself A Piece of Cake\t78_cut-yourself-a-piece-of-cake_broadway-melody-makers-billy-james_gbia0004336a\n",
            "Paramount\t14011A\tDeep Moaning Blues\t78_deep-moaning-blues_ma-rainey_gbia0001316a\n",
            "Paramount\t20001-A\tDardanella\t78_dardanella_benny-selvins-novelty-orchestra-felix-bernard-and-johnny-s-black_gbia0044727a\n",
            "ABC-Paramount\t78-9827\tDeep within Me\t78_deep-within-me_don-casanave-don-costas-orchestra-and-chorus-shapiro-stallman_gbia0073537b\n",
            "Paramount\t12673-A\tDoggin' Me Mama Blues\t78_doggin-me-mama-blues_blind-blake_gbia0001323a\n",
            "Paramount\t4004-A\tDeep In My Heart\t78_deep-in-my-heart_milton-charles_gbia0059300a\n",
            "ABC-Paramount\t78-9833\tDer Becki\t78_der-becki_russ-carlyle-carlyle_gbia0073538a\n",
            "ABC-Paramount\t78-9831\tDiana\t78_diana_paul-anka-don-costa-anka_gbia0037919a\n",
            "ABC-Paramount\t78-9831\tDon't Gamble with Love\t78_dont-gamble-with-love_paul-anka-don-costa-anka_gbia0037919b\n",
            "Paramount\t20031-B\tDown In China Town\t78_down-in-china-town_frosini-meyer-hulten_gbia0059331b\n",
            "ABC-Paramount\t9728\tDreamy Fish Waltz\t78_dreamy-fish-waltz_stan-wolowic-and-the-polka-chips-wolowic-moore_gbia0008184b\n",
            "ABC-Paramount\t78-9862\tEven Tho\t78_even-tho_george-hamilton-iv-don-costa-willie-jones-curt-peeples-webb-pierce_gbia0073541b\n",
            "Paramount\t12246-B\tDrunk Mans Strut\t78_drunk-mans-strut_jimmy-obryant-the-clarinet-wizard-jimmy-blythe-jasper-taylor-ji_gbia0094034b\n",
            "Paramount\t20197-B\tEvery Wednesday Night\t78_every-wednesday-night_frisco-syncopators-cliff-friend-and-abe-oleman_gbia0036918b\n",
            "ABC-Paramount\t9770\tEverybody Loves Pierre\t78_everybody-loves-pierre_costa-don-costa-and-his-orchestra-and-chorus_gbia0000525b\n",
            "ABC-Paramount\t78-9780\tFirst Impression\t78_first-impression_eydie-gorme-don-costas-orchestra-and-chorus-leigh-charlap_gbia0073528a\n",
            "Paramount\tNone legible\tFetch Your Water\t78_fetch-your-water_charlie-spand-spand_gbia0039308a\n",
            "Paramount\t30025-B\tFirst Love\t78_first-love_delroy_gbia0003102b\n",
            "ABC-Paramount\t9693\tFlamenco Love\t78_flamenco-love_don-costa-his-orchestra-and-chorus-nick-perito-wagner-shuman-eaton_gbia0037313b\n",
            "ABC-Paramount\t9732\tFrom a School Ring to a Wedding Ring\t78_from-a-school-ring-to-a-wedding-ring_the-rover-boys-don-costa-his-orchestra-and-cho_gbia0073276b\n",
            "Paramount\t50046 B\tGavotte\t78_gavott_moissaye-boguslawski-gluck-brahams_gbia0094880b\n",
            "Paramount\t20146-B\tGeorgette\t78_georgette_eddie-davis-orchestra-ray-henderson_gbia0002546b\n",
            "ABC-Paramount\t9700\tGraduation Day\t78_graduation-day_the-rover-boys-billy-albert-don-costa-sherman_gbia0015175a\n",
            "Paramount\t33052-B\tGive Me a Smile and a Kiss\t78_give-me-a-smile-and-a-kiss_arthur-hall-alex-sullivan-louis-handman_gbia0009379b\n",
            "Paramount\t20090-B\tGood-Bye Shanghai\t78_good-bye-shanghai_yerkes-s-s-flotilla-dance-orchestra-jos-meyer_gbia0094992b\n",
            "ABC-Paramount\t9693\tHeart of Paris\t78_heart-of-paris_don-costa-his-orchestra-and-chorus-nick-perito-auric-larue-parish_gbia0037313a\n",
            "ABC-Paramount\t9724\tHand Holdin' Baby\t78_hand-holdin-baby_joan-shaw-sid-feller-shaw_gbia0073277b\n",
            "Paramount\t14004A\tHeart Breakin' Joe\t78_heart-breakin-joe_joe-smith-and-orchestra-ethel-finnie_gbia0000937a\n",
            "Paramount\t14004A\tHeart Breakin' Joe\t78_heart-breakin-joe_joe-smith-and-orchestra-ethel-finnie_gbia0001305a\n",
            "ABC-Paramount\t9705\tHold on Tight\t78_hold-on-tight_russ-carlyle-his-orchestra-and-chorus-russ-carlyle-carlyle-washabaugh_gbia0073280a\n",
            "Paramount\t20062-B\tHoney Rose\t78_honey-rose_billy-jones-wm-tracey-harry-tobias-pinkard_gbia0084799b\n",
            "Paramount\t12673-B\tHot Potatoes\t78_hot-potatoes_blind-blake_gbia0001323b\n",
            "ABC-Paramount\t78-9822\tHow Will I Know?\t78_how-will-i-know_damita-jo-don-costa-norvas-baxter_gbia0073536a\n",
            "Paramount\t33052-A\tI Am Always Building Castles in The Air\t78_i-am-always-building-castles-in-the-air_sterling-trio-ted-gartn-a.-fred-phillips_gbia0009379a\n",
            "ABC-Paramount\t78-9811\tI Love My Girl\t78_i-love-my-girl_cozy-morley-peter-deangelis-deangelis-marcucci_gbia0073534b\n",
            "ABC-Paramount\t78-9855\tI Love You, Baby\t78_i-love-you-baby_paul-anka-don-costa-p-anka_gbia0073540b\n",
            "ABC-Paramount\t9700\tI Hear Music\t78_i-hear-music_the-rover-boys-billy-albert-sid-feller-scott_gbia0015175b\n",
            "ABC-Paramount\t9782\tIf I Possessed A Printing Press\t78_if-i-possessed-a-printing-press_george-hamilton-iv-gale_gbia0003074a\n",
            "Paramount\t14005B\tI Want To\t78_i-want-to_fletcher-h.-henderson_gbia0001306b\n",
            "ABC-Paramount\t9765\tIf You Don't Know\t78_if-you-dont-know_george-hamilton-iv_gbia0059301b\n",
            "ABC-Paramount\t9765\tIf You Don't Know\t78_if-you-dont-know_george-hamilton-iv_gbia0015176b\n",
            "ABC-Paramount\t78-9822\tI'll Never Cry\t78_ill-never-cry_damita-jo-don-costa_gbia0073536b\n",
            "Paramount\t20104-B\tI'm Cuckoo Over You\t78_im-cuckoo-over-you_selvins-novelty-orch-mitchell-brooks_gbia0059298b\n",
            "Paramount\t20197-A\tI'm Just A Little Blue\t78_im-just-a-little-blue_frisco-syncopators-van-alystine-and-gillespie_gbia0036918a\n",
            "ABC-Paramount\t78-9765\tIf You Don't Know\t78_if-you-dont-know_george-hamilton-iv_gbia0023851b\n",
            "ABC-Paramount\t78-9780\tI'll Take Romance\t78_ill-take-romance_eydie-gorme-don-costas-orchestra-and-chorus-m-evans-d-costa-oa_gbia0073528b\n",
            "Paramount\t20015-B\tI'd Love to Fall Asleep and Wake Up in My Mammy's Arms\t78_id-love-to-fall-asleep-and-wake-up-in-my-mammys-arms_flo-bert-fred-e-ahlert-sam_gbia0082238b\n",
            "Paramount\t33137-A\tI'm So Glad Trouble Don't Last Always\t78_im-so-glad-trouble-dont-last-always_carrol-clark-r-nathaniel-dett_gbia0089765a\n",
            "Paramount\t20305-A\tIt Ain't Gonna Rain No Mo'\t78_it-aint-gonna-rain-no-mo_al-bernard-frank-ferera-wendell-hall-and-fred-forster_gbia0022440a\n",
            "ABC-Paramount\t78-9762\tIt all Started with Your Kiss\t78_it-all-started-with-your-kiss_micki-marlo-don-costa-his-orchestra-chorus-snyder-j_gbia0073270b\n",
            "ABC-Paramount\t78-9762\tIt All Started with Your Kiss\t78_it-all-started-with-your-kiss_micki-marlo-don-costa-snyder-jacobs_gbia0043023b\n",
            "Paramount\t14022 A\tJack O'Diamonds\t78_jack-odiamonds_blind-lemon-jefferson_gbia0001313a\n",
            "Paramount\t33026-B\tJerry\t78_jerry_greens-xylophone-orchestra-benny-davis-sid-erdman-ernie-erdman_gbia0084641b\n",
            "ABC-Paramount\t9772\tI Don't Want to Set The World on Fire\t78_i-dont-want-to-set-the-world-on-fire_russ-carlyle-and-the-coachmen-durham-benjemen_gbia0005320a\n",
            "Paramount\t14024 A\tJig Walk\t78_jig-walk_duke-ellington-ellington_gbia0001314a\n",
            "Paramount\t20015-A\tI've Got The Blues For My Kentucky Home\t78_ive-got-the-blues-for-my-kentucky-home_flo-bert-clarence-gaskill_gbia0082238a\n",
            "Paramount\t12601-A\tJudgment Day In The Morning\t78_judgment-day-in-the-morning_moses-mason_gbia0093544a\n",
            "ABC-Paramount\t9766\tJune Night Waltz\t78_june-night-waltz_stan-wolowic-and-the-polka-chips-s-wolowic-w-moore_gbia0073272b\n",
            "ABC-Paramount\t78-9792\tJust Because\t78_just-because_lloyd-price-and-his-orchestra-price_gbia0073531a\n",
            "Paramount\t20031-A\tJust Like A Gypsy\t78_just-like-a-gypsy_frosini-simons-bayes_gbia0059331a\n",
            "ABC-Paramount\t78-9817\tKiss in Your Eyes\t78_kiss-in-your-eyes_eydie-gorme-don-costa-and-marion-evans-lynn-brooks-gordon_gbia0073535b\n",
            "Paramount\t30028-A\tLa Marseillaise\t78_la-marseillaise_royal-dadmun-de-lisle_gbia0184943a\n",
            "Paramount\t30011-B\tLead Kindly Light\t78_lead-kindly-light_royden-d-massey-newman-dykes_gbia0046761b\n",
            "Paramount\t20013-A\tLa Veeda\t78_la-veeda_newport-society-orchestra-john-alden_gbia0080325a\n",
            "Paramount\t20013-B\tLeft All Alone Again, Blues\t78_left-all-alone-again-blues_newport-society-orchestra-anne-caldwell-jerome-kern_gbia0080325b\n",
            "Paramount\t20011-B\tLet the Rest of the World Go By\t78_let-the-rest-of-the-world-go-by_qula-helene-evans-j-keirn-brennan-ernest-r-ball_gbia0086896b\n",
            "ABC-Paramount\t78-9863\tLet Me Be Loved\t78_let-me-be-loved_eydie-gorme-bernie-glow-don-costa-livingston-evans_gbia0073542b\n"
          ],
          "name": "stdout"
        }
      ]
    },
    {
      "cell_type": "markdown",
      "metadata": {
        "id": "xGs8O0SlREgr",
        "colab_type": "text"
      },
      "source": [
        "Now you know how to do a pretty sophisticated query.\n",
        "\n",
        "\n"
      ]
    },
    {
      "cell_type": "markdown",
      "metadata": {
        "id": "BsxVOLTHhmH8",
        "colab_type": "text"
      },
      "source": [
        "# Count the words in the bible of the Project Gutenberg collection of public domain texts"
      ]
    },
    {
      "cell_type": "markdown",
      "metadata": {
        "id": "sDuldujahz6D",
        "colab_type": "text"
      },
      "source": [
        "\n",
        "\n",
        "First, we have to find the item in the Archive.  I went to the website and typed \"project gutenberg bible\" but got too much, so went to find the project gutenberg collection by typing: [Project Gutenberg](https://archive.org/search.php?query=project%20gutenberg) and then looking for the collection [clicked it](https://archive.org/details/gutenberg), then [typed Bible](https://archive.org/details/gutenberg?and%5B%5D=bible&sin=) in the left sidebar and again got too much, so typed [King James Bible](https://archive.org/details/gutenberg?and%5B%5D=king+james+bible&sin=) in the left sidebar and found [this one](https://archive.org/details/thebibleoldandne00010gut).  Internet Archive item identifier: thebibleoldandne00010gut"
      ]
    },
    {
      "cell_type": "markdown",
      "metadata": {
        "id": "bWZKYywnZ1Of",
        "colab_type": "text"
      },
      "source": [
        "To find the right file in thebibleoldandne00010gut lets list it.  This is done with the 'ia list' command"
      ]
    },
    {
      "cell_type": "code",
      "metadata": {
        "id": "FDy9NN7cZ-bs",
        "colab_type": "code",
        "colab": {
          "base_uri": "https://localhost:8080/",
          "height": 121
        },
        "outputId": "de01b5b1-58fa-4736-aa6e-bd0dece7a963"
      },
      "source": [
        "!ia list thebibleoldandne00010gut"
      ],
      "execution_count": null,
      "outputs": [
        {
          "output_type": "stream",
          "text": [
            "kjv10.txt\n",
            "kjv10.zip\n",
            "thebibleoldandne00010gut_archive.torrent\n",
            "thebibleoldandne00010gut_files.xml\n",
            "thebibleoldandne00010gut_meta.xml\n",
            "thebibleoldandne00010gut_reviews.xml\n"
          ],
          "name": "stdout"
        }
      ]
    },
    {
      "cell_type": "markdown",
      "metadata": {
        "id": "iHVLhDZ2h6e8",
        "colab_type": "text"
      },
      "source": [
        "Now lets get the .txt file and type out the first 35 lines.  We can use the 'ia download' command to access the file, but instead of downloading it onto the virtual machine, we can use 'download' to pipe it into another command, in this case 'head', by using the --stdout parameter."
      ]
    },
    {
      "cell_type": "code",
      "metadata": {
        "id": "a__sytoBZnSM",
        "colab_type": "code",
        "colab": {
          "base_uri": "https://localhost:8080/",
          "height": 625
        },
        "outputId": "5ff1a389-ca28-4694-c9ff-4124925472ed"
      },
      "source": [
        "!ia download thebibleoldandne00010gut kjv10.txt --stdout | head -35"
      ],
      "execution_count": null,
      "outputs": [
        {
          "output_type": "stream",
          "text": [
            "**Welcome To The World of Free Plain Vanilla Electronic Texts**\r\n",
            "\r\n",
            "**Etexts Readable By Both Humans and By Computers, Since 1971**\r\n",
            "\r\n",
            "*These Etexts Prepared By Hundreds of Volunteers and Donations*\r\n",
            "\r\n",
            "\r\n",
            "August, 1989  [Etext #10]\r\n",
            "\r\n",
            "\r\n",
            "******The Project Gutenberg Etext of The King James Bible******\r\n",
            "******This file should be named kjv10.txt or kjv10.zip*****\r\n",
            "\r\n",
            "\r\n",
            "Copyright laws are changing all over the world, be sure to check\r\n",
            "the copyright laws for your country before posting these files!!\r\n",
            "\r\n",
            "Please take a look at the important information in this header.\r\n",
            "We encourage you to keep this file on your own disk, keeping an\r\n",
            "electronic path open for the next readers.  Do not remove this.\r\n",
            "\r\n",
            "\r\n",
            "**Welcome To The World of Free Plain Vanilla Electronic Texts**\r\n",
            "\r\n",
            "**Etexts Readable By Both Humans and By Computers, Since 1971**\r\n",
            "\r\n",
            "*These Etexts Prepared By Hundreds of Volunteers and Donations*\r\n",
            "\r\n",
            "Information on contacting Project Gutenberg to get Etexts, and\r\n",
            "further information is included below.  We need your donations.\r\n",
            "\r\n",
            "\r\n",
            "The King James Bible\r\n",
            "\r\n",
            "August, 1989  [Etext #10]\r\n"
          ],
          "name": "stdout"
        }
      ]
    },
    {
      "cell_type": "markdown",
      "metadata": {
        "id": "73cpEGc1Z3sv",
        "colab_type": "text"
      },
      "source": [
        "Now lets get the number of words in the whole txt file.   Lets not write it to the drive, but rather, stream it into the unix wordcount command \"wc\""
      ]
    },
    {
      "cell_type": "code",
      "metadata": {
        "id": "PRhctRL6Ztva",
        "colab_type": "code",
        "colab": {
          "base_uri": "https://localhost:8080/",
          "height": 34
        },
        "outputId": "ad0829cd-fd70-4cbb-d3a6-f487d32c0e04"
      },
      "source": [
        "!ia download thebibleoldandne00010gut kjv10.txt --stdout | wc -w"
      ],
      "execution_count": null,
      "outputs": [
        {
          "output_type": "stream",
          "text": [
            "823156\n"
          ],
          "name": "stdout"
        }
      ]
    },
    {
      "cell_type": "markdown",
      "metadata": {
        "id": "1uAdtI64akNw",
        "colab_type": "text"
      },
      "source": [
        "As a trick, to print that resulting number with comma's there is a cool command:  numfmt --grouping"
      ]
    },
    {
      "cell_type": "code",
      "metadata": {
        "id": "hgh_whzUatOf",
        "colab_type": "code",
        "colab": {
          "base_uri": "https://localhost:8080/",
          "height": 34
        },
        "outputId": "db1f4aab-8ffc-45e9-8714-401c970c319e"
      },
      "source": [
        "!ia download thebibleoldandne00010gut kjv10.txt --stdout | wc -w | numfmt --grouping"
      ],
      "execution_count": null,
      "outputs": [
        {
          "output_type": "stream",
          "text": [
            "823,156\n"
          ],
          "name": "stdout"
        }
      ]
    },
    {
      "cell_type": "markdown",
      "metadata": {
        "id": "LHv4X7ZV57pH",
        "colab_type": "text"
      },
      "source": [
        "Done, congratulations!"
      ]
    },
    {
      "cell_type": "markdown",
      "metadata": {
        "id": "M76Tj1NgBvs8",
        "colab_type": "text"
      },
      "source": [
        "# Report on the Number of uploads per hour to a collection"
      ]
    },
    {
      "cell_type": "markdown",
      "metadata": {
        "id": "hJdeKIZvB6cv",
        "colab_type": "text"
      },
      "source": [
        "When uploads of 78rpm records are proceeding, I find it helpful to see how many per hour are happening.   This is how I watch it, maybe it has some command line tricks that will be helpful or at least instructive."
      ]
    },
    {
      "cell_type": "code",
      "metadata": {
        "id": "iOqdxqLjCIVq",
        "colab_type": "code",
        "colab": {
          "base_uri": "https://localhost:8080/",
          "height": 573
        },
        "outputId": "513c43d8-5168-4673-8db2-f0dcde9bbae4"
      },
      "source": [
        "\n",
        "# only way I found to set an environment variable in google colab (sorry):\n",
        "import os\n",
        "os.environ['SEARCH'] = \"collection:georgeblood AND publicdate:[2020-08-01 TO *]\"\n",
        "!echo \"$SEARCH\"\n",
        "\n",
        "!printf \"\\n\\n\"; echo -n \"Number of 78rpm items uploaded completely: \"\n",
        "!ia search $SEARCH --num-found\n",
        "\n",
        "!echo -n \"Now: \"; date -u +\"%Y-%m-%dT%H\"\n",
        "!echo \"Number of uploads completed in each hour of recent 24 hours:\"\n",
        "!ia search $SEARCH -f publicdate -s publicdate | jq -r .publicdate | cut -d: -f1| sort -nr | uniq -c | head -24\n",
        "\n",
        "!date\n",
        "\n"
      ],
      "execution_count": null,
      "outputs": [
        {
          "output_type": "stream",
          "text": [
            "collection:georgeblood AND publicdate:[2020-08-01 TO *]\n",
            "\n",
            "\n",
            "Number of 78rpm items uploaded completely: 8164\n",
            "Number not included in index (not complete): 0\n",
            "Now: 2020-09-13T16\n",
            "Number completed per hour in each of 24 hours:\n",
            "     16 2020-08-21T20\n",
            "      7 2020-08-21T19\n",
            "      1 2020-08-21T18\n",
            "      4 2020-08-21T09\n",
            "    169 2020-08-21T08\n",
            "    181 2020-08-21T07\n",
            "    167 2020-08-21T06\n",
            "    166 2020-08-21T05\n",
            "    174 2020-08-21T04\n",
            "    172 2020-08-21T03\n",
            "    163 2020-08-21T02\n",
            "    170 2020-08-21T01\n",
            "    188 2020-08-21T00\n",
            "    182 2020-08-20T23\n",
            "    180 2020-08-20T22\n",
            "    175 2020-08-20T21\n",
            "    193 2020-08-20T20\n",
            "    167 2020-08-20T19\n",
            "    159 2020-08-20T18\n",
            "    170 2020-08-20T17\n",
            "     14 2020-08-19T23\n",
            "     31 2020-08-19T22\n",
            "     50 2020-08-19T21\n",
            "     56 2020-08-19T20\n",
            "Sun Sep 13 16:58:47 UTC 2020\n"
          ],
          "name": "stdout"
        }
      ]
    },
    {
      "cell_type": "markdown",
      "metadata": {
        "id": "Au2S8VuD5nXx",
        "colab_type": "text"
      },
      "source": [
        "# Producing a report on periodical uploads\n"
      ]
    },
    {
      "cell_type": "markdown",
      "metadata": {
        "id": "gyBC4u6Y51e0",
        "colab_type": "text"
      },
      "source": [
        "Producing a report on uploaded microfilm periodicals is sometimes helpful, and might be seen as a template for other such reports.\n",
        "\n",
        "the last command \"pages processed\" of this takes 10 minutes to run because it is summing a field across over 100k items. \n",
        "\n",
        "You can stop it from running by clicking on the spinning play button if you want to go on to the next section.\n"
      ]
    },
    {
      "cell_type": "code",
      "metadata": {
        "id": "zIY95pWn6BLs",
        "colab_type": "code",
        "colab": {
          "base_uri": "https://localhost:8080/",
          "height": 208
        },
        "outputId": "82f43b4a-14dc-4546-9f19-9cede0611fcb"
      },
      "source": [
        "!date\n",
        "!echo -n \"Canisters cataloged:  \"  # count all items in this collection\n",
        "!ia search \"collection:sim_raw_scans\" --num-found |  numfmt --grouping\n",
        "\n",
        "!echo -n \"Canisters uploaded:   \"  # count the canister items that have a jp2 in it, since that means it has been uploaded\n",
        "!ia search \"collection:sim_raw_scans AND format:jp2\" --num-found |  numfmt --grouping\n",
        "\n",
        "!echo -n \"Issues uploaded:      \"   #count the number of texts in this collection\n",
        "!ia search \"collection:sim_microfilm AND mediatype:texts\" --num-found | numfmt --grouping\n",
        "\n",
        "!echo -n \"Issues processed:     \"   # count the number of texts that have a pdf, so therefore processed\n",
        "!ia search \"collection:sim_microfilm AND mediatype:texts AND format:pdf\" --num-found | numfmt --grouping\n",
        "\n",
        "!echo -n \"Issues unprocessed:   \"   # count those that do not have a pdf, as those have not been processed\n",
        "!ia search \"collection:sim_microfilm AND mediatype:texts AND NOT format:pdf\" --num-found |  numfmt --grouping\n",
        "\n",
        "!echo -n \"Pages processed:      \"   # go through each item in this collection and sum the imagecount metadata values\n",
        "!time ia search 'collection:sim_microfilm' -f imagecount | jq -r '.imagecount' | paste -sd+ - | bc |  numfmt --grouping"
      ],
      "execution_count": null,
      "outputs": [
        {
          "output_type": "stream",
          "text": [
            "Mon Sep 14 17:54:05 UTC 2020\n",
            "Canisters cataloged:  1,072\n",
            "Canisters uploaded:   878\n",
            "Issues uploaded:      143,815\n",
            "Issues processed:     143,761\n",
            "Issues unprocessed:   53\n",
            "Pages processed:      13,198,506\n",
            "\n",
            "real\t3m21.751s\n",
            "user\t0m2.245s\n",
            "sys\t0m0.160s\n"
          ],
          "name": "stdout"
        }
      ]
    },
    {
      "cell_type": "markdown",
      "metadata": {
        "id": "2n40dm6Nhqt-",
        "colab_type": "text"
      },
      "source": [
        "# Watching microfilm processing to debug issues"
      ]
    },
    {
      "cell_type": "markdown",
      "metadata": {
        "id": "8qhxNMAfE9E-",
        "colab_type": "text"
      },
      "source": [
        "Ufilm Canisters/ribbons go through [different states](https://docs.google.com/spreadsheets/d/1cadT7wCoMlVU0UXrokrcuzxfRzj4CwZf72lDdCkvPzk/edit#gid=0).  This can be useful to see what states canisters are in to see if there are any workflow issues."
      ]
    },
    {
      "cell_type": "code",
      "metadata": {
        "id": "Eky6jyYbiWbH",
        "colab_type": "code",
        "colab": {
          "base_uri": "https://localhost:8080/",
          "height": 191
        },
        "outputId": "d8880447-f870-4bf2-a1a8-f00bb77ee798"
      },
      "source": [
        "!echo \"How many canisters are in each state (as represented in the metadata of the canister)\"\n",
        "!date\n",
        "!ia search \"ribbon_state:*\" -f ribbon_state | jq -r .ribbon_state | sort | uniq -c"
      ],
      "execution_count": null,
      "outputs": [
        {
          "output_type": "stream",
          "text": [
            "How many canisters are in each state (as represented in the metadata of the canister)\n",
            "Mon Sep 14 19:26:17 UTC 2020\n",
            "     28 output_complete\n",
            "      1 outputting\n",
            "      3 packaging\n",
            "     52 packaging_complete\n",
            "      3 pre_output\n",
            "     28 prepped\n",
            "    156 scanned\n",
            "    401 upload_complete\n"
          ],
          "name": "stdout"
        }
      ]
    },
    {
      "cell_type": "code",
      "metadata": {
        "id": "Nskq86sCEtss",
        "colab_type": "code",
        "colab": {}
      },
      "source": [
        ""
      ],
      "execution_count": null,
      "outputs": []
    },
    {
      "cell_type": "code",
      "metadata": {
        "id": "uXeC7WDyhzSH",
        "colab_type": "code",
        "colab": {
          "base_uri": "https://localhost:8080/",
          "height": 920
        },
        "outputId": "e838a5ae-5082-4c67-da42-ff75cf154dc2"
      },
      "source": [
        "!echo \"list 50 most recent state changes on canisters\"\n",
        "!date\n",
        "!ia search \"ribbon_state:*\" -f ribbon_state -f ribbon_state_modify_date | jq -r '[.ribbon_state_modify_date, .ribbon_state, .identifier] | @tsv' | sort -r |\\\n",
        " head -50\n"
      ],
      "execution_count": null,
      "outputs": [
        {
          "output_type": "stream",
          "text": [
            "list 50 most recent state changes on canisters\n",
            "Mon Sep 14 19:16:31 UTC 2020\n",
            "2020-09-15T02:37:37Z\tpackaging\tsim_raw_scan_IA1504516-06\n",
            "2020-09-15T02:35:57Z\toutputting\tsim_raw_scan_IA1504516-07\n",
            "2020-09-15T02:35:00Z\tpackaging\tsim_raw_scan_IA1504515-07\n",
            "2020-09-14T22:15:50Z\tupload_complete\tsim_raw_scan_IA1504516-03\n",
            "2020-09-14T21:53:53Z\tupload_complete\tsim_raw_scan_IA1504521-03\n",
            "2020-09-14T21:47:41Z\tscanned\tsim_raw_scan_IA1532504-07\n",
            "2020-09-14T21:44:20Z\tupload_complete\tsim_raw_scan_IA1504518-05\n",
            "2020-09-14T21:41:44Z\tpackaging_complete\tsim_raw_scan_IA1504511-07\n",
            "2020-09-14T21:19:55Z\tscanned\tsim_raw_scan_IA1532504-05\n",
            "2020-09-14T21:13:18Z\tscanned\tsim_raw_scan_IA1532503-05\n",
            "2020-09-14T21:09:33Z\tscanned\tsim_raw_scan_IA1532504-04\n",
            "2020-09-14T20:47:30Z\tscanned\tsim_raw_scan_IA1532504-02\n",
            "2020-09-14T20:32:02Z\tscanned\tsim_raw_scan_IA1532504-01\n",
            "2020-09-14T20:26:20Z\tpackaging_complete\tsim_raw_scan_IA1504518-03\n",
            "2020-09-14T20:16:08Z\tupload_complete\tsim_raw_scan_IA1504515-05\n",
            "2020-09-14T20:07:57Z\tscanned\tsim_raw_scan_IA1532503-04\n",
            "2020-09-14T19:56:43Z\tupload_complete\tsim_raw_scan_IA1504519-07\n",
            "2020-09-14T19:28:55Z\tpackaging_complete\tsim_raw_scan_IA1504520-03\n",
            "2020-09-14T19:22:39Z\tscanned\tsim_raw_scan_IA1532503-07\n",
            "2020-09-14T18:40:05Z\tpackaging_complete\tsim_raw_scan_IA1504518-07\n",
            "2020-09-14T17:33:40Z\tpackaging_complete\tsim_raw_scan_IA1504518-01\n",
            "2020-09-14T17:17:50Z\tscanned\tsim_raw_scan_IA1532503-01\n",
            "2020-09-14T17:16:49Z\tscanned\tsim_raw_scan_IA1532503-06\n",
            "2020-09-14T16:48:08Z\tscanned\tsim_raw_scan_IA1532503-03\n",
            "2020-09-14T16:22:20Z\tscanned\tsim_raw_scan_IA1532502-07\n",
            "2020-09-14T16:15:21Z\tscanned\tsim_raw_scan_IA1532502-05\n",
            "2020-09-14T15:05:26Z\tscanned\tsim_raw_scan_IA1532502-03\n",
            "2020-09-14T15:03:59Z\tscanned\tsim_raw_scan_IA1532502-04\n",
            "2020-09-14T13:47:36Z\tscanned\tsim_raw_scan_IA1532502-06\n",
            "2020-09-14T13:01:10Z\tscanned\tsim_raw_scan_IA1532502-02\n",
            "2020-09-14T12:57:06Z\tpre_output\tsim_raw_scan_IA1504517-06\n",
            "2020-09-14T12:51:37Z\tscanned\tsim_raw_scan_IA1532502-01\n",
            "2020-09-14T12:48:40Z\tscanned\tsim_raw_scan_IA1532501-07\n",
            "2020-09-14T12:31:39Z\tscanned\tsim_raw_scan_IA1532501-06\n",
            "2020-09-14T11:32:17Z\tscanned\tsim_raw_scan_IA1532501-05\n",
            "2020-09-14T11:32:11Z\tscanned\tsim_raw_scan_IA1532501-03\n",
            "2020-09-14T11:02:17Z\tscanned\tsim_raw_scan_IA1532501-04\n",
            "2020-09-14T10:38:47Z\tscanned\tsim_raw_scan_IA1532501-01\n",
            "2020-09-14T10:34:41Z\tscanned\tsim_raw_scan_IA1532501-02\n",
            "2020-09-14T10:12:42Z\tscanned\tsim_raw_scan_IA1504536-06\n",
            "2020-09-14T10:11:01Z\tscanned\tsim_raw_scan_IA1504536-07\n",
            "2020-09-14T09:49:53Z\tscanned\tsim_raw_scan_IA1504533-07\n",
            "2020-09-14T09:13:16Z\tscanned\tsim_raw_scan_IA1504533-05\n",
            "2020-09-14T09:06:24Z\tscanned\tsim_raw_scan_IA1504533-06\n",
            "2020-09-14T09:01:53Z\tpre_output\tsim_raw_scan_IA1504517-01\n",
            "2020-09-14T08:04:16Z\tscanned\tsim_raw_scan_IA1504533-04\n",
            "2020-09-14T08:03:11Z\tscanned\tsim_raw_scan_IA1504533-03\n",
            "2020-09-14T07:06:20Z\tscanned\tsim_raw_scan_IA1504533-02\n",
            "2020-09-14T07:01:37Z\tpre_output\tsim_raw_scan_IA1504517-04\n",
            "2020-09-14T06:29:27Z\tscanned\tsim_raw_scan_IA1504533-01\n"
          ],
          "name": "stdout"
        }
      ]
    },
    {
      "cell_type": "markdown",
      "metadata": {
        "id": "JmoBmj2fx8uh",
        "colab_type": "text"
      },
      "source": [
        "# What can you do now?"
      ]
    },
    {
      "cell_type": "markdown",
      "metadata": {
        "id": "LThWirj2xcIN",
        "colab_type": "text"
      },
      "source": [
        "Now you could add to or modify commands even using this tool!   By hitting \"Copy to Drive\" above, then you can \"fork\" this page to make it your own and add to it.  Please share!"
      ]
    }
  ]
}